{
  "cells": [
    {
      "cell_type": "markdown",
      "metadata": {
        "id": "view-in-github",
        "colab_type": "text"
      },
      "source": [
        "<a href=\"https://colab.research.google.com/github/Akhil4Coding/Data_Project/blob/Akhil4Coding-Individual_Final_Complete/BNM832_BD_210223372_INDVIDUAL_REPORT.ipynb\" target=\"_parent\"><img src=\"https://colab.research.google.com/assets/colab-badge.svg\" alt=\"Open In Colab\"/></a>"
      ]
    },
    {
      "cell_type": "markdown",
      "metadata": {
        "id": "5CbF97H_RV-Z"
      },
      "source": [
        "# **CASUALTY SEVERITY PREDICTION IN ACCIDENT USING MACHINE LEARNING**"
      ]
    },
    {
      "cell_type": "markdown",
      "metadata": {
        "id": "lGiVX2T0T0iE"
      },
      "source": [
        "#### **Candidate Number** : 334636\n",
        "\n",
        "### **Big Data Coursework - UK Accident Dataset - Individual Part**\n",
        "\n",
        "\n",
        "As part of the group work, we loaded, cleaned, and preprocessed the data.\n",
        "\n",
        "For my own part of the analysis, I will continue to clean and transform the data while creating several models to predict the accident severity using independent variables I will choose at a later time.\n",
        "\n",
        "\n",
        "# **Table of Contents**\n",
        "\n",
        "1. Business Objective and Context\n",
        "2. Data Loading and Selection\n",
        "3. Data Cleaning and Transformation\n",
        "4. Building the Models and Evaluation\n",
        "5. Conclusion and Discussion of Results\n",
        "6. Future Model Improvements and Business Scenario\n",
        "\n",
        "\n",
        "# **1.0 Business Objective and Context**\n",
        "\n",
        "## **1.1 Introduction**\n",
        "More than 1.2 million people die each year in highway-related crashes, and up to 50 million more are injured; by 2030, highway-related crashes are expected to be the world's fifth leading cause of death (1, World Health Organization, 2013). Aside from the statistics on deaths and injuries, highway-related crashes cause incalculable pain and suffering, as well as billions of dollars in medical costs and lost productivity.\n",
        "\n",
        "Police-reported data also include a great deal of information that can serve as explanatory variables in modelling injury-severity outcomes, including information on time of day, age and gender of vehicle occupants, road-surface conditions, weather conditions, possible contributing factors to the crash, **roadway type, roadway lighting, speed limits, basic roadway geometrics (curve, grade, etc.), type of crash (rollover, rear end, etc.) type of object(s) struck, driver sobriety, safety belt usage, airbag deployment, and so on.**\n",
        "\n",
        "It is demonstrated that new methodologies that address complex issues such as unobserved heterogeneity, risk compensation, spatial and temporal correlations, and others have the potential to significantly expand our understanding of the numerous factors that influence the likelihood and severity (in terms of personal injury) of highway crashes. This, in turn, can lead to more effective safety countermeasures, resulting in a significant reduction in highway-related casualty and fatalities.\n",
        "\n",
        "![Accident_Data.jpg](attachment:Accident_Data.jpg)\n",
        "\n",
        "\n",
        "## **1.2 Business Problem**\n",
        "We want to build a model that predicts severe casaulty in road accidents. With the help of this model **NHS** will be able to provide predictive care for severe causality based on daily fatal accidents severity with proper care and equipment's needed \n",
        "for their care. By generating this model healthcare systems can accomplish goals to give proper treatment to the patients in need and will increase a quality of care by eliminating care disparities.  \n",
        "\n",
        "This model will use number of severe patients per day('casualty severity') as a target variable and **'vehicle reference', 'casualty reference','casualty class','sex of casualty','age of casualty','longitude','latitude','number of casualties','car passenger','speed limit','junction detail','light conditions','weather conditions','road surface conditions','urban or rural area','accident severity','did police officer attend scene of accident'** as the explanatory variables."
      ]
    },
    {
      "cell_type": "markdown",
      "metadata": {
        "id": "w7TuYhFBcX62"
      },
      "source": [
        "# **2.0 Data Loading and Selection**\n",
        "\n",
        "## **2.1 Loading Libraries**"
      ]
    },
    {
      "cell_type": "code",
      "execution_count": null,
      "metadata": {
        "id": "GQEl9i6Y8PAG"
      },
      "outputs": [],
      "source": [
        "#pip install pandas-profiling"
      ]
    },
    {
      "cell_type": "code",
      "execution_count": null,
      "metadata": {
        "id": "QgxpaXFlcWYQ"
      },
      "outputs": [],
      "source": [
        "import pandas as pd\n",
        "import numpy as np\n",
        "import time\n",
        "import warnings\n",
        "\n",
        "import matplotlib.pyplot as plt\n",
        "import seaborn as sns\n",
        "\n",
        "from pandas_profiling import ProfileReport\n",
        "from sklearn.model_selection import train_test_split\n",
        "\n",
        "from sklearn.tree import DecisionTreeClassifier\n",
        "from sklearn.ensemble import RandomForestClassifier\n",
        "from sklearn.linear_model import LogisticRegression\n",
        "from sklearn import svm\n",
        "\n",
        "from sklearn import metrics\n",
        "from sklearn.model_selection import cross_val_score\n",
        "from sklearn.metrics import confusion_matrix\n",
        "\n",
        "from sklearn.metrics import classification_report\n",
        "from sklearn.metrics import accuracy_score\n",
        "\n",
        "from sklearn.model_selection import RandomizedSearchCV\n",
        "\n",
        "plt.rcParams.update({'font.size': 10})\n",
        "plt.rcParams['figure.figsize']=(16,10)"
      ]
    },
    {
      "cell_type": "code",
      "execution_count": null,
      "metadata": {
        "id": "O98QIvjM9oTv"
      },
      "outputs": [],
      "source": [
        "%matplotlib inline"
      ]
    },
    {
      "cell_type": "code",
      "execution_count": null,
      "metadata": {
        "id": "Dt79xpqSa5Ew"
      },
      "outputs": [],
      "source": [
        "# We will monitor the time it takes to run the notebook\n",
        "start = time.time()\n"
      ]
    },
    {
      "cell_type": "markdown",
      "metadata": {
        "id": "YzOO4NolcmJ_"
      },
      "source": [
        "## **2.2 Loading train and test dataset**"
      ]
    },
    {
      "cell_type": "code",
      "execution_count": null,
      "metadata": {
        "id": "mXjdQkc8cEaD"
      },
      "outputs": [],
      "source": [
        "train_frame = pd.read_csv(\"trainset.csv\")\n",
        "test_frame = pd.read_csv(\"testset.csv\")"
      ]
    },
    {
      "cell_type": "code",
      "execution_count": null,
      "metadata": {
        "colab": {
          "base_uri": "https://localhost:8080/",
          "height": 450,
          "referenced_widgets": [
            "3b3ee7d55c1440fa977dd3f92eb247f9",
            "31ea1e293aff463f9d9ab43d341eb7de",
            "ebd62a0d363e42b28627cd4af420f98f",
            "beb0c4489734479e81cc73add1926b29"
          ]
        },
        "id": "DoEyU5vZ6n9v",
        "outputId": "7e966a95-3012-4d1a-b2aa-ace9c53613c5"
      },
      "outputs": [
        {
          "data": {
            "application/vnd.jupyter.widget-view+json": {
              "model_id": "3b3ee7d55c1440fa977dd3f92eb247f9",
              "version_major": 2,
              "version_minor": 0
            },
            "text/plain": [
              "Summarize dataset:   0%|          | 0/5 [00:00<?, ?it/s]"
            ]
          },
          "metadata": {},
          "output_type": "display_data"
        },
        {
          "data": {
            "application/vnd.jupyter.widget-view+json": {
              "model_id": "31ea1e293aff463f9d9ab43d341eb7de",
              "version_major": 2,
              "version_minor": 0
            },
            "text/plain": [
              "Generate report structure:   0%|          | 0/1 [00:00<?, ?it/s]"
            ]
          },
          "metadata": {},
          "output_type": "display_data"
        },
        {
          "data": {
            "application/vnd.jupyter.widget-view+json": {
              "model_id": "ebd62a0d363e42b28627cd4af420f98f",
              "version_major": 2,
              "version_minor": 0
            },
            "text/plain": [
              "Render HTML:   0%|          | 0/1 [00:00<?, ?it/s]"
            ]
          },
          "metadata": {},
          "output_type": "display_data"
        },
        {
          "data": {
            "application/vnd.jupyter.widget-view+json": {
              "model_id": "beb0c4489734479e81cc73add1926b29",
              "version_major": 2,
              "version_minor": 0
            },
            "text/plain": [
              "Export report to file:   0%|          | 0/1 [00:00<?, ?it/s]"
            ]
          },
          "metadata": {},
          "output_type": "display_data"
        }
      ],
      "source": [
        "profile = ProfileReport(train_frame)\n",
        "profile\n",
        "profile.to_file(\"detailed_report.html\")"
      ]
    },
    {
      "cell_type": "markdown",
      "metadata": {
        "id": "oJhYJ-NxPdUy"
      },
      "source": [
        "**HTML output is converted to PDF and attached as detailed report in Appendix.**\n",
        "\n",
        "\n",
        "\n",
        "Checking the Dataset size and shape. Making sure that the data is split into 80:20 ratio for train and test. Spliting of data is completed in group work\n",
        "**Test Dataset**: Used to evaluate the fit of the machine learning model.\n",
        "\n",
        "**Train Dataset**: Used to fit the machine learning model.\n",
        "\n",
        "We have a large dataset with 74759 rows. So spliting the dataset in the ratio of 80:20 for trainset and testset. Completed splitting in the group part chekcing the shape of train and test data"
      ]
    },
    {
      "cell_type": "code",
      "execution_count": null,
      "metadata": {
        "colab": {
          "base_uri": "https://localhost:8080/"
        },
        "id": "F4pGZBQCSjJ2",
        "outputId": "578049fe-af46-4ac5-fef9-4fb50f1fb4d5"
      },
      "outputs": [
        {
          "data": {
            "text/plain": [
              "(74759, 18)"
            ]
          },
          "execution_count": 157,
          "metadata": {},
          "output_type": "execute_result"
        }
      ],
      "source": [
        "# check the size of the dataset\n",
        "train_frame.shape"
      ]
    },
    {
      "cell_type": "code",
      "execution_count": null,
      "metadata": {
        "colab": {
          "base_uri": "https://localhost:8080/"
        },
        "id": "jE0qbTG2_Cd9",
        "outputId": "fc87d2b6-0f0e-49d6-be79-025d82c6cb54"
      },
      "outputs": [
        {
          "data": {
            "text/plain": [
              "(18690, 18)"
            ]
          },
          "execution_count": 158,
          "metadata": {},
          "output_type": "execute_result"
        }
      ],
      "source": [
        "test_frame.shape"
      ]
    },
    {
      "cell_type": "code",
      "execution_count": null,
      "metadata": {
        "colab": {
          "base_uri": "https://localhost:8080/",
          "height": 314
        },
        "id": "hmKI6f04S3n0",
        "outputId": "1ebe2d09-29a3-43b6-fd21-13d27fcc35a7"
      },
      "outputs": [
        {
          "data": {
            "text/html": [
              "<div>\n",
              "<style scoped>\n",
              "    .dataframe tbody tr th:only-of-type {\n",
              "        vertical-align: middle;\n",
              "    }\n",
              "\n",
              "    .dataframe tbody tr th {\n",
              "        vertical-align: top;\n",
              "    }\n",
              "\n",
              "    .dataframe thead th {\n",
              "        text-align: right;\n",
              "    }\n",
              "</style>\n",
              "<table border=\"1\" class=\"dataframe\">\n",
              "  <thead>\n",
              "    <tr style=\"text-align: right;\">\n",
              "      <th></th>\n",
              "      <th>vehicle_reference</th>\n",
              "      <th>casualty_reference</th>\n",
              "      <th>casualty_class</th>\n",
              "      <th>sex_of_casualty</th>\n",
              "      <th>age_of_casualty</th>\n",
              "      <th>longitude</th>\n",
              "      <th>latitude</th>\n",
              "      <th>number_of_casualties</th>\n",
              "      <th>casualty_severity</th>\n",
              "      <th>car_passenger</th>\n",
              "      <th>speed_limit</th>\n",
              "      <th>junction_detail</th>\n",
              "      <th>light_conditions</th>\n",
              "      <th>weather_conditions</th>\n",
              "      <th>road_surface_conditions</th>\n",
              "      <th>urban_or_rural_area</th>\n",
              "      <th>accident_severity</th>\n",
              "      <th>police_presence</th>\n",
              "    </tr>\n",
              "  </thead>\n",
              "  <tbody>\n",
              "    <tr>\n",
              "      <th>0</th>\n",
              "      <td>2</td>\n",
              "      <td>1</td>\n",
              "      <td>Passenger</td>\n",
              "      <td>Female</td>\n",
              "      <td>6</td>\n",
              "      <td>-2.097202</td>\n",
              "      <td>3.980543</td>\n",
              "      <td>2</td>\n",
              "      <td>Slight</td>\n",
              "      <td>Front seat passenger</td>\n",
              "      <td>30.0</td>\n",
              "      <td>Crossroads</td>\n",
              "      <td>Daylight</td>\n",
              "      <td>Fine no high winds</td>\n",
              "      <td>Wet</td>\n",
              "      <td>Urban</td>\n",
              "      <td>Slight</td>\n",
              "      <td>Yes</td>\n",
              "    </tr>\n",
              "    <tr>\n",
              "      <th>1</th>\n",
              "      <td>1</td>\n",
              "      <td>1</td>\n",
              "      <td>Pedestrian</td>\n",
              "      <td>Female</td>\n",
              "      <td>8</td>\n",
              "      <td>-1.547853</td>\n",
              "      <td>4.004375</td>\n",
              "      <td>1</td>\n",
              "      <td>Slight</td>\n",
              "      <td>Not car passenger</td>\n",
              "      <td>20.0</td>\n",
              "      <td>Not at junction</td>\n",
              "      <td>Daylight</td>\n",
              "      <td>Fine no high winds</td>\n",
              "      <td>Dry</td>\n",
              "      <td>Urban</td>\n",
              "      <td>Slight</td>\n",
              "      <td>Yes</td>\n",
              "    </tr>\n",
              "    <tr>\n",
              "      <th>2</th>\n",
              "      <td>1</td>\n",
              "      <td>1</td>\n",
              "      <td>Passenger</td>\n",
              "      <td>Male</td>\n",
              "      <td>47</td>\n",
              "      <td>-1.328169</td>\n",
              "      <td>3.959019</td>\n",
              "      <td>2</td>\n",
              "      <td>Slight</td>\n",
              "      <td>Front seat passenger</td>\n",
              "      <td>30.0</td>\n",
              "      <td>Mini-roundabout</td>\n",
              "      <td>Daylight</td>\n",
              "      <td>Fine no high winds</td>\n",
              "      <td>Wet</td>\n",
              "      <td>Urban</td>\n",
              "      <td>Slight</td>\n",
              "      <td>Yes</td>\n",
              "    </tr>\n",
              "    <tr>\n",
              "      <th>3</th>\n",
              "      <td>2</td>\n",
              "      <td>1</td>\n",
              "      <td>Passenger</td>\n",
              "      <td>Female</td>\n",
              "      <td>2</td>\n",
              "      <td>-0.040082</td>\n",
              "      <td>3.966447</td>\n",
              "      <td>1</td>\n",
              "      <td>Slight</td>\n",
              "      <td>Rear seat passenger</td>\n",
              "      <td>60.0</td>\n",
              "      <td>Not at junction</td>\n",
              "      <td>Daylight</td>\n",
              "      <td>Fine no high winds</td>\n",
              "      <td>Dry</td>\n",
              "      <td>Rural</td>\n",
              "      <td>Slight</td>\n",
              "      <td>Yes</td>\n",
              "    </tr>\n",
              "    <tr>\n",
              "      <th>4</th>\n",
              "      <td>1</td>\n",
              "      <td>1</td>\n",
              "      <td>Driver</td>\n",
              "      <td>Female</td>\n",
              "      <td>50</td>\n",
              "      <td>-2.832659</td>\n",
              "      <td>3.970494</td>\n",
              "      <td>3</td>\n",
              "      <td>Slight</td>\n",
              "      <td>Not car passenger</td>\n",
              "      <td>60.0</td>\n",
              "      <td>Not at junction</td>\n",
              "      <td>Daylight</td>\n",
              "      <td>Fine no high winds</td>\n",
              "      <td>Wet</td>\n",
              "      <td>Rural</td>\n",
              "      <td>Slight</td>\n",
              "      <td>Yes</td>\n",
              "    </tr>\n",
              "  </tbody>\n",
              "</table>\n",
              "</div>"
            ],
            "text/plain": [
              "   vehicle_reference  casualty_reference casualty_class sex_of_casualty  \\\n",
              "0                  2                   1      Passenger          Female   \n",
              "1                  1                   1     Pedestrian          Female   \n",
              "2                  1                   1      Passenger            Male   \n",
              "3                  2                   1      Passenger          Female   \n",
              "4                  1                   1         Driver          Female   \n",
              "\n",
              "   age_of_casualty  longitude  latitude  number_of_casualties  \\\n",
              "0                6  -2.097202  3.980543                     2   \n",
              "1                8  -1.547853  4.004375                     1   \n",
              "2               47  -1.328169  3.959019                     2   \n",
              "3                2  -0.040082  3.966447                     1   \n",
              "4               50  -2.832659  3.970494                     3   \n",
              "\n",
              "  casualty_severity         car_passenger  speed_limit  junction_detail  \\\n",
              "0            Slight  Front seat passenger         30.0       Crossroads   \n",
              "1            Slight     Not car passenger         20.0  Not at junction   \n",
              "2            Slight  Front seat passenger         30.0  Mini-roundabout   \n",
              "3            Slight   Rear seat passenger         60.0  Not at junction   \n",
              "4            Slight     Not car passenger         60.0  Not at junction   \n",
              "\n",
              "  light_conditions  weather_conditions road_surface_conditions  \\\n",
              "0         Daylight  Fine no high winds                     Wet   \n",
              "1         Daylight  Fine no high winds                     Dry   \n",
              "2         Daylight  Fine no high winds                     Wet   \n",
              "3         Daylight  Fine no high winds                     Dry   \n",
              "4         Daylight  Fine no high winds                     Wet   \n",
              "\n",
              "  urban_or_rural_area accident_severity police_presence  \n",
              "0               Urban            Slight             Yes  \n",
              "1               Urban            Slight             Yes  \n",
              "2               Urban            Slight             Yes  \n",
              "3               Rural            Slight             Yes  \n",
              "4               Rural            Slight             Yes  "
            ]
          },
          "execution_count": 159,
          "metadata": {},
          "output_type": "execute_result"
        }
      ],
      "source": [
        "train_frame.head()"
      ]
    },
    {
      "cell_type": "markdown",
      "metadata": {
        "id": "znWFSFplPdU1"
      },
      "source": [
        "Write details about the coloumn"
      ]
    },
    {
      "cell_type": "code",
      "execution_count": null,
      "metadata": {
        "colab": {
          "base_uri": "https://localhost:8080/",
          "height": 314
        },
        "id": "BISC9lGKTCeR",
        "outputId": "f240f7db-fe6b-417a-aa55-eb58d5d6584b"
      },
      "outputs": [
        {
          "data": {
            "text/html": [
              "<div>\n",
              "<style scoped>\n",
              "    .dataframe tbody tr th:only-of-type {\n",
              "        vertical-align: middle;\n",
              "    }\n",
              "\n",
              "    .dataframe tbody tr th {\n",
              "        vertical-align: top;\n",
              "    }\n",
              "\n",
              "    .dataframe thead th {\n",
              "        text-align: right;\n",
              "    }\n",
              "</style>\n",
              "<table border=\"1\" class=\"dataframe\">\n",
              "  <thead>\n",
              "    <tr style=\"text-align: right;\">\n",
              "      <th></th>\n",
              "      <th>vehicle_reference</th>\n",
              "      <th>casualty_reference</th>\n",
              "      <th>casualty_class</th>\n",
              "      <th>sex_of_casualty</th>\n",
              "      <th>age_of_casualty</th>\n",
              "      <th>longitude</th>\n",
              "      <th>latitude</th>\n",
              "      <th>number_of_casualties</th>\n",
              "      <th>casualty_severity</th>\n",
              "      <th>car_passenger</th>\n",
              "      <th>speed_limit</th>\n",
              "      <th>junction_detail</th>\n",
              "      <th>light_conditions</th>\n",
              "      <th>weather_conditions</th>\n",
              "      <th>road_surface_conditions</th>\n",
              "      <th>urban_or_rural_area</th>\n",
              "      <th>accident_severity</th>\n",
              "      <th>police_presence</th>\n",
              "    </tr>\n",
              "  </thead>\n",
              "  <tbody>\n",
              "    <tr>\n",
              "      <th>0</th>\n",
              "      <td>1</td>\n",
              "      <td>1</td>\n",
              "      <td>Driver</td>\n",
              "      <td>Male</td>\n",
              "      <td>31</td>\n",
              "      <td>-0.340802</td>\n",
              "      <td>3.956682</td>\n",
              "      <td>1</td>\n",
              "      <td>Slight</td>\n",
              "      <td>Not car passenger</td>\n",
              "      <td>60.0</td>\n",
              "      <td>Not at junction</td>\n",
              "      <td>Daylight</td>\n",
              "      <td>Fine no high winds</td>\n",
              "      <td>Dry</td>\n",
              "      <td>Rural</td>\n",
              "      <td>Slight</td>\n",
              "      <td>Yes</td>\n",
              "    </tr>\n",
              "    <tr>\n",
              "      <th>1</th>\n",
              "      <td>1</td>\n",
              "      <td>1</td>\n",
              "      <td>Pedestrian</td>\n",
              "      <td>Female</td>\n",
              "      <td>41</td>\n",
              "      <td>-0.254930</td>\n",
              "      <td>3.961979</td>\n",
              "      <td>1</td>\n",
              "      <td>Slight</td>\n",
              "      <td>Not car passenger</td>\n",
              "      <td>30.0</td>\n",
              "      <td>Mini-roundabout</td>\n",
              "      <td>Daylight</td>\n",
              "      <td>Fine no high winds</td>\n",
              "      <td>Dry</td>\n",
              "      <td>Urban</td>\n",
              "      <td>Slight</td>\n",
              "      <td>Yes</td>\n",
              "    </tr>\n",
              "    <tr>\n",
              "      <th>2</th>\n",
              "      <td>1</td>\n",
              "      <td>1</td>\n",
              "      <td>Driver</td>\n",
              "      <td>Male</td>\n",
              "      <td>25</td>\n",
              "      <td>0.298953</td>\n",
              "      <td>3.959089</td>\n",
              "      <td>1</td>\n",
              "      <td>Slight</td>\n",
              "      <td>Not car passenger</td>\n",
              "      <td>60.0</td>\n",
              "      <td>Crossroads</td>\n",
              "      <td>Darkness-no lighting</td>\n",
              "      <td>Fine no high winds</td>\n",
              "      <td>Dry</td>\n",
              "      <td>Rural</td>\n",
              "      <td>Slight</td>\n",
              "      <td>Yes</td>\n",
              "    </tr>\n",
              "    <tr>\n",
              "      <th>3</th>\n",
              "      <td>1</td>\n",
              "      <td>1</td>\n",
              "      <td>Driver</td>\n",
              "      <td>Male</td>\n",
              "      <td>72</td>\n",
              "      <td>-1.603644</td>\n",
              "      <td>4.007470</td>\n",
              "      <td>1</td>\n",
              "      <td>Slight</td>\n",
              "      <td>Not car passenger</td>\n",
              "      <td>60.0</td>\n",
              "      <td>Crossroads</td>\n",
              "      <td>Daylight</td>\n",
              "      <td>Fine no high winds</td>\n",
              "      <td>Dry</td>\n",
              "      <td>Rural</td>\n",
              "      <td>Slight</td>\n",
              "      <td>Yes</td>\n",
              "    </tr>\n",
              "    <tr>\n",
              "      <th>4</th>\n",
              "      <td>1</td>\n",
              "      <td>1</td>\n",
              "      <td>Driver</td>\n",
              "      <td>Male</td>\n",
              "      <td>25</td>\n",
              "      <td>-0.076067</td>\n",
              "      <td>3.958879</td>\n",
              "      <td>1</td>\n",
              "      <td>Serious</td>\n",
              "      <td>Not car passenger</td>\n",
              "      <td>30.0</td>\n",
              "      <td>Not at junction</td>\n",
              "      <td>Darkness-lights lit</td>\n",
              "      <td>Fine no high winds</td>\n",
              "      <td>Dry</td>\n",
              "      <td>Urban</td>\n",
              "      <td>Serious</td>\n",
              "      <td>Yes</td>\n",
              "    </tr>\n",
              "  </tbody>\n",
              "</table>\n",
              "</div>"
            ],
            "text/plain": [
              "   vehicle_reference  casualty_reference casualty_class sex_of_casualty  \\\n",
              "0                  1                   1         Driver            Male   \n",
              "1                  1                   1     Pedestrian          Female   \n",
              "2                  1                   1         Driver            Male   \n",
              "3                  1                   1         Driver            Male   \n",
              "4                  1                   1         Driver            Male   \n",
              "\n",
              "   age_of_casualty  longitude  latitude  number_of_casualties  \\\n",
              "0               31  -0.340802  3.956682                     1   \n",
              "1               41  -0.254930  3.961979                     1   \n",
              "2               25   0.298953  3.959089                     1   \n",
              "3               72  -1.603644  4.007470                     1   \n",
              "4               25  -0.076067  3.958879                     1   \n",
              "\n",
              "  casualty_severity      car_passenger  speed_limit  junction_detail  \\\n",
              "0            Slight  Not car passenger         60.0  Not at junction   \n",
              "1            Slight  Not car passenger         30.0  Mini-roundabout   \n",
              "2            Slight  Not car passenger         60.0       Crossroads   \n",
              "3            Slight  Not car passenger         60.0       Crossroads   \n",
              "4           Serious  Not car passenger         30.0  Not at junction   \n",
              "\n",
              "       light_conditions  weather_conditions road_surface_conditions  \\\n",
              "0              Daylight  Fine no high winds                     Dry   \n",
              "1              Daylight  Fine no high winds                     Dry   \n",
              "2  Darkness-no lighting  Fine no high winds                     Dry   \n",
              "3              Daylight  Fine no high winds                     Dry   \n",
              "4   Darkness-lights lit  Fine no high winds                     Dry   \n",
              "\n",
              "  urban_or_rural_area accident_severity police_presence  \n",
              "0               Rural            Slight             Yes  \n",
              "1               Urban            Slight             Yes  \n",
              "2               Rural            Slight             Yes  \n",
              "3               Rural            Slight             Yes  \n",
              "4               Urban           Serious             Yes  "
            ]
          },
          "execution_count": 160,
          "metadata": {},
          "output_type": "execute_result"
        }
      ],
      "source": [
        "test_frame.head()"
      ]
    },
    {
      "cell_type": "markdown",
      "metadata": {
        "id": "33QOJGMglGBE"
      },
      "source": [
        "# **3.0 Data Cleaning and Transformation**\n",
        "\n",
        "## **3.1 Collecting the details of dataset** "
      ]
    },
    {
      "cell_type": "markdown",
      "metadata": {
        "id": "hZd3e1dlPdU2"
      },
      "source": [
        "While checking the dataset we understood that we have 7 numerical and 11 object or categorical datatypes. we need to encode the categorical values due to the reason that ML algorithum uses numerical values for running the model. Encording is completed for all categorical values except the target variaable **Causualty_severity**"
      ]
    },
    {
      "cell_type": "code",
      "execution_count": null,
      "metadata": {
        "colab": {
          "base_uri": "https://localhost:8080/"
        },
        "id": "W0_zUzKFTEnI",
        "outputId": "10609eff-8f3b-4cc2-a0a6-3dd0f6cdd41d"
      },
      "outputs": [
        {
          "name": "stdout",
          "output_type": "stream",
          "text": [
            "<class 'pandas.core.frame.DataFrame'>\n",
            "RangeIndex: 74759 entries, 0 to 74758\n",
            "Data columns (total 18 columns):\n",
            " #   Column                   Non-Null Count  Dtype  \n",
            "---  ------                   --------------  -----  \n",
            " 0   vehicle_reference        74759 non-null  int64  \n",
            " 1   casualty_reference       74759 non-null  int64  \n",
            " 2   casualty_class           74759 non-null  object \n",
            " 3   sex_of_casualty          74759 non-null  object \n",
            " 4   age_of_casualty          74759 non-null  int64  \n",
            " 5   longitude                74759 non-null  float64\n",
            " 6   latitude                 74759 non-null  float64\n",
            " 7   number_of_casualties     74759 non-null  int64  \n",
            " 8   casualty_severity        74759 non-null  object \n",
            " 9   car_passenger            74759 non-null  object \n",
            " 10  speed_limit              74752 non-null  float64\n",
            " 11  junction_detail          74759 non-null  object \n",
            " 12  light_conditions         74759 non-null  object \n",
            " 13  weather_conditions       74759 non-null  object \n",
            " 14  road_surface_conditions  74759 non-null  object \n",
            " 15  urban_or_rural_area      74759 non-null  object \n",
            " 16  accident_severity        74759 non-null  object \n",
            " 17  police_presence          74759 non-null  object \n",
            "dtypes: float64(3), int64(4), object(11)\n",
            "memory usage: 10.3+ MB\n",
            "None\n"
          ]
        }
      ],
      "source": [
        "#Get information for the dataset such as type and non null counts\n",
        "print(train_frame.info())"
      ]
    },
    {
      "cell_type": "code",
      "execution_count": null,
      "metadata": {
        "colab": {
          "base_uri": "https://localhost:8080/"
        },
        "id": "83tfWQltTKTz",
        "outputId": "6a9948f8-fec4-4f8e-b50e-888fa69ebbce"
      },
      "outputs": [
        {
          "name": "stdout",
          "output_type": "stream",
          "text": [
            "<class 'pandas.core.frame.DataFrame'>\n",
            "RangeIndex: 18690 entries, 0 to 18689\n",
            "Data columns (total 18 columns):\n",
            " #   Column                   Non-Null Count  Dtype  \n",
            "---  ------                   --------------  -----  \n",
            " 0   vehicle_reference        18690 non-null  int64  \n",
            " 1   casualty_reference       18690 non-null  int64  \n",
            " 2   casualty_class           18690 non-null  object \n",
            " 3   sex_of_casualty          18690 non-null  object \n",
            " 4   age_of_casualty          18690 non-null  int64  \n",
            " 5   longitude                18690 non-null  float64\n",
            " 6   latitude                 18690 non-null  float64\n",
            " 7   number_of_casualties     18690 non-null  int64  \n",
            " 8   casualty_severity        18690 non-null  object \n",
            " 9   car_passenger            18690 non-null  object \n",
            " 10  speed_limit              18688 non-null  float64\n",
            " 11  junction_detail          18690 non-null  object \n",
            " 12  light_conditions         18690 non-null  object \n",
            " 13  weather_conditions       18690 non-null  object \n",
            " 14  road_surface_conditions  18690 non-null  object \n",
            " 15  urban_or_rural_area      18690 non-null  object \n",
            " 16  accident_severity        18690 non-null  object \n",
            " 17  police_presence          18690 non-null  object \n",
            "dtypes: float64(3), int64(4), object(11)\n",
            "memory usage: 2.6+ MB\n"
          ]
        }
      ],
      "source": [
        "#Get information for the dataset such as type and non null counts\n",
        "test_frame.info()"
      ]
    },
    {
      "cell_type": "markdown",
      "metadata": {
        "id": "DrQ8YKzsmRrD"
      },
      "source": [
        "## **3.2 Checking the target variable coloumn**"
      ]
    },
    {
      "cell_type": "code",
      "execution_count": null,
      "metadata": {
        "colab": {
          "base_uri": "https://localhost:8080/",
          "height": 498
        },
        "id": "Ikub-zrdVSpi",
        "outputId": "35ed8fe6-da5f-4c5d-f7f5-e992c7d73e30"
      },
      "outputs": [
        {
          "data": {
            "image/png": "[encoded data removed]",
            "text/plain": [
              "<Figure size 1152x720 with 1 Axes>"
            ]
          },
          "metadata": {},
          "output_type": "display_data"
        }
      ],
      "source": [
        "sns.set_palette(\"pastel\")\n",
        "sns.set_style(\"white\")\n",
        "sns.countplot(x=\"casualty_severity\", data=train_frame)\n",
        "sns.despine()"
      ]
    },
    {
      "cell_type": "markdown",
      "metadata": {
        "id": "HXWE6Kp4PdU4"
      },
      "source": [
        "**Imbalanced data** :A dataset with imbalanced data is one in which the target class has an unequal number of observations, We can see it clearly  on this graph ploted above. one class label has a large number of observations while the other has a small number.\n",
        "\n",
        "Here we can see that Slight is high compared to serious and fatal. For our business problem we need to address issue related to the fatal and serious variables. For this reason we are using confusion matrix to understand the accuracy of each category rather than whole accuracy of the model"
      ]
    },
    {
      "cell_type": "markdown",
      "metadata": {
        "id": "otmN1m_onMBk"
      },
      "source": [
        "## **3.3 Checking the null values**\n",
        "\n",
        "**3.3.1 Checking the trainset data for null values**"
      ]
    },
    {
      "cell_type": "code",
      "execution_count": null,
      "metadata": {
        "colab": {
          "base_uri": "https://localhost:8080/"
        },
        "id": "Def6nFG8IkCG",
        "outputId": "a1410f08-6c5c-4419-c67e-46d3c34d5628"
      },
      "outputs": [
        {
          "data": {
            "text/plain": [
              "vehicle_reference          0\n",
              "casualty_reference         0\n",
              "casualty_class             0\n",
              "sex_of_casualty            0\n",
              "age_of_casualty            0\n",
              "longitude                  0\n",
              "latitude                   0\n",
              "number_of_casualties       0\n",
              "casualty_severity          0\n",
              "car_passenger              0\n",
              "speed_limit                7\n",
              "junction_detail            0\n",
              "light_conditions           0\n",
              "weather_conditions         0\n",
              "road_surface_conditions    0\n",
              "urban_or_rural_area        0\n",
              "accident_severity          0\n",
              "police_presence            0\n",
              "dtype: int64"
            ]
          },
          "execution_count": 164,
          "metadata": {},
          "output_type": "execute_result"
        }
      ],
      "source": [
        "train_frame.isna().sum()"
      ]
    },
    {
      "cell_type": "markdown",
      "metadata": {
        "id": "jCVt4w9DoCXZ"
      },
      "source": [
        "**3.3.2 Checking the testset data for null values**"
      ]
    },
    {
      "cell_type": "code",
      "execution_count": null,
      "metadata": {
        "colab": {
          "base_uri": "https://localhost:8080/"
        },
        "id": "QohSy5lwIk_Z",
        "outputId": "99547229-eca1-46c3-9e38-f6932e340e08"
      },
      "outputs": [
        {
          "data": {
            "text/plain": [
              "vehicle_reference          0\n",
              "casualty_reference         0\n",
              "casualty_class             0\n",
              "sex_of_casualty            0\n",
              "age_of_casualty            0\n",
              "longitude                  0\n",
              "latitude                   0\n",
              "number_of_casualties       0\n",
              "casualty_severity          0\n",
              "car_passenger              0\n",
              "speed_limit                2\n",
              "junction_detail            0\n",
              "light_conditions           0\n",
              "weather_conditions         0\n",
              "road_surface_conditions    0\n",
              "urban_or_rural_area        0\n",
              "accident_severity          0\n",
              "police_presence            0\n",
              "dtype: int64"
            ]
          },
          "execution_count": 165,
          "metadata": {},
          "output_type": "execute_result"
        }
      ],
      "source": [
        "test_frame.isna().sum()"
      ]
    },
    {
      "cell_type": "markdown",
      "metadata": {
        "id": "hFV0Si07oX4f"
      },
      "source": [
        "## **3.4 Replacing the null values**\n",
        "\n",
        "Here the null values are found on the speed limit so replacing it with median value will more ideal as median represents the identity value of the whole column"
      ]
    },
    {
      "cell_type": "code",
      "execution_count": null,
      "metadata": {
        "id": "nIv1hQ_cIZ6Z"
      },
      "outputs": [],
      "source": [
        "train_frame[\"speed_limit\"].fillna(train_frame[\"speed_limit\"].mean(), inplace=True)\n",
        "test_frame[\"speed_limit\"].fillna(train_frame[\"speed_limit\"].mean(), inplace=True)"
      ]
    },
    {
      "cell_type": "markdown",
      "metadata": {
        "id": "aZ2SzmzPL05M"
      },
      "source": [
        "# **4.0 Building the Models**\n",
        "\n",
        "## **4.1 Encoding the Dataset**\n",
        "\n",
        "Data science often involves categorical feature encoding, which can be accomplished in various ways, creating different results and understandings of input data. We have checked our dataset and understood that it contains floats and objects.\n",
        "\n",
        "Since math is generally performed with numbers, categorical data is encoded numerically. For model training, mathematical inputs are required.Our NLP class taught us that converting text to numbers is a big part of natural language processing. Our algorithms are not able to operate if data is not numerical. \n",
        "\n",
        "By encoding a categorical feature in a one-hot manner, we can determine if there exists a unique value for that feature. We need to encode the following columns\n",
        "**'vehicle_reference', 'casualty_class',\n",
        "                            'sex_of_casualty', 'longitude', 'latitude',\n",
        "                            'number_of_casualties', 'casualty_severity', 'car_passenger',\n",
        "                            'junction_detail', 'light_conditions',\n",
        "                            'weather_conditions', 'road_surface_conditions', 'urban_or_rural_area',\n",
        "                            'police_presence'**"
      ]
    },
    {
      "cell_type": "code",
      "execution_count": null,
      "metadata": {
        "id": "gfvsEuPQEx5E"
      },
      "outputs": [],
      "source": [
        "def enocder(original_dataframe, feature_to_encode):\n",
        "    dummies = pd.get_dummies(original_dataframe[[feature_to_encode]])\n",
        "    res = pd.concat([original_dataframe, dummies], axis=1)\n",
        "    res = res.drop([feature_to_encode], axis=1)\n",
        "    return(res) "
      ]
    },
    {
      "cell_type": "code",
      "execution_count": null,
      "metadata": {
        "id": "2v4yzmZUE0fy"
      },
      "outputs": [],
      "source": [
        "features_to_onehotencode= ['vehicle_reference', 'casualty_class',\n",
        "                            'sex_of_casualty', 'longitude', 'latitude',\n",
        "                            'number_of_casualties', 'accident_severity', 'car_passenger',\n",
        "                            'junction_detail', 'light_conditions',\n",
        "                            'weather_conditions', 'road_surface_conditions', 'urban_or_rural_area',\n",
        "                            'police_presence']\n",
        "\n",
        "for feature in features_to_onehotencode:\n",
        "    train_frame = enocder(train_frame, feature)\n",
        "    test_frame = enocder(test_frame, feature)"
      ]
    },
    {
      "cell_type": "code",
      "execution_count": null,
      "metadata": {
        "colab": {
          "base_uri": "https://localhost:8080/",
          "height": 317
        },
        "id": "UUcxIyj1s4G9",
        "outputId": "717cf1e3-dae6-4462-ee98-4aa37061d587"
      },
      "outputs": [
        {
          "data": {
            "text/html": [
              "<div>\n",
              "<style scoped>\n",
              "    .dataframe tbody tr th:only-of-type {\n",
              "        vertical-align: middle;\n",
              "    }\n",
              "\n",
              "    .dataframe tbody tr th {\n",
              "        vertical-align: top;\n",
              "    }\n",
              "\n",
              "    .dataframe thead th {\n",
              "        text-align: right;\n",
              "    }\n",
              "</style>\n",
              "<table border=\"1\" class=\"dataframe\">\n",
              "  <thead>\n",
              "    <tr style=\"text-align: right;\">\n",
              "      <th></th>\n",
              "      <th>casualty_reference</th>\n",
              "      <th>age_of_casualty</th>\n",
              "      <th>casualty_severity</th>\n",
              "      <th>speed_limit</th>\n",
              "      <th>casualty_class_Driver</th>\n",
              "      <th>casualty_class_Passenger</th>\n",
              "      <th>casualty_class_Pedestrian</th>\n",
              "      <th>sex_of_casualty_Female</th>\n",
              "      <th>sex_of_casualty_Male</th>\n",
              "      <th>accident_severity_Fatal</th>\n",
              "      <th>...</th>\n",
              "      <th>road_surface_conditions_Dry</th>\n",
              "      <th>road_surface_conditions_Flood</th>\n",
              "      <th>road_surface_conditions_Frost</th>\n",
              "      <th>road_surface_conditions_Snow</th>\n",
              "      <th>road_surface_conditions_Wet</th>\n",
              "      <th>urban_or_rural_area_Rural</th>\n",
              "      <th>urban_or_rural_area_Urban</th>\n",
              "      <th>police_presence_No</th>\n",
              "      <th>police_presence_Self rep only</th>\n",
              "      <th>police_presence_Yes</th>\n",
              "    </tr>\n",
              "  </thead>\n",
              "  <tbody>\n",
              "    <tr>\n",
              "      <th>0</th>\n",
              "      <td>1</td>\n",
              "      <td>6</td>\n",
              "      <td>Slight</td>\n",
              "      <td>30.0</td>\n",
              "      <td>0</td>\n",
              "      <td>1</td>\n",
              "      <td>0</td>\n",
              "      <td>1</td>\n",
              "      <td>0</td>\n",
              "      <td>0</td>\n",
              "      <td>...</td>\n",
              "      <td>0</td>\n",
              "      <td>0</td>\n",
              "      <td>0</td>\n",
              "      <td>0</td>\n",
              "      <td>1</td>\n",
              "      <td>0</td>\n",
              "      <td>1</td>\n",
              "      <td>0</td>\n",
              "      <td>0</td>\n",
              "      <td>1</td>\n",
              "    </tr>\n",
              "    <tr>\n",
              "      <th>1</th>\n",
              "      <td>1</td>\n",
              "      <td>8</td>\n",
              "      <td>Slight</td>\n",
              "      <td>20.0</td>\n",
              "      <td>0</td>\n",
              "      <td>0</td>\n",
              "      <td>1</td>\n",
              "      <td>1</td>\n",
              "      <td>0</td>\n",
              "      <td>0</td>\n",
              "      <td>...</td>\n",
              "      <td>1</td>\n",
              "      <td>0</td>\n",
              "      <td>0</td>\n",
              "      <td>0</td>\n",
              "      <td>0</td>\n",
              "      <td>0</td>\n",
              "      <td>1</td>\n",
              "      <td>0</td>\n",
              "      <td>0</td>\n",
              "      <td>1</td>\n",
              "    </tr>\n",
              "    <tr>\n",
              "      <th>2</th>\n",
              "      <td>1</td>\n",
              "      <td>47</td>\n",
              "      <td>Slight</td>\n",
              "      <td>30.0</td>\n",
              "      <td>0</td>\n",
              "      <td>1</td>\n",
              "      <td>0</td>\n",
              "      <td>0</td>\n",
              "      <td>1</td>\n",
              "      <td>0</td>\n",
              "      <td>...</td>\n",
              "      <td>0</td>\n",
              "      <td>0</td>\n",
              "      <td>0</td>\n",
              "      <td>0</td>\n",
              "      <td>1</td>\n",
              "      <td>0</td>\n",
              "      <td>1</td>\n",
              "      <td>0</td>\n",
              "      <td>0</td>\n",
              "      <td>1</td>\n",
              "    </tr>\n",
              "    <tr>\n",
              "      <th>3</th>\n",
              "      <td>1</td>\n",
              "      <td>2</td>\n",
              "      <td>Slight</td>\n",
              "      <td>60.0</td>\n",
              "      <td>0</td>\n",
              "      <td>1</td>\n",
              "      <td>0</td>\n",
              "      <td>1</td>\n",
              "      <td>0</td>\n",
              "      <td>0</td>\n",
              "      <td>...</td>\n",
              "      <td>1</td>\n",
              "      <td>0</td>\n",
              "      <td>0</td>\n",
              "      <td>0</td>\n",
              "      <td>0</td>\n",
              "      <td>1</td>\n",
              "      <td>0</td>\n",
              "      <td>0</td>\n",
              "      <td>0</td>\n",
              "      <td>1</td>\n",
              "    </tr>\n",
              "    <tr>\n",
              "      <th>4</th>\n",
              "      <td>1</td>\n",
              "      <td>50</td>\n",
              "      <td>Slight</td>\n",
              "      <td>60.0</td>\n",
              "      <td>1</td>\n",
              "      <td>0</td>\n",
              "      <td>0</td>\n",
              "      <td>1</td>\n",
              "      <td>0</td>\n",
              "      <td>0</td>\n",
              "      <td>...</td>\n",
              "      <td>0</td>\n",
              "      <td>0</td>\n",
              "      <td>0</td>\n",
              "      <td>0</td>\n",
              "      <td>1</td>\n",
              "      <td>1</td>\n",
              "      <td>0</td>\n",
              "      <td>0</td>\n",
              "      <td>0</td>\n",
              "      <td>1</td>\n",
              "    </tr>\n",
              "  </tbody>\n",
              "</table>\n",
              "<p>5 rows × 47 columns</p>\n",
              "</div>"
            ],
            "text/plain": [
              "   casualty_reference  age_of_casualty casualty_severity  speed_limit  \\\n",
              "0                   1                6            Slight         30.0   \n",
              "1                   1                8            Slight         20.0   \n",
              "2                   1               47            Slight         30.0   \n",
              "3                   1                2            Slight         60.0   \n",
              "4                   1               50            Slight         60.0   \n",
              "\n",
              "   casualty_class_Driver  casualty_class_Passenger  casualty_class_Pedestrian  \\\n",
              "0                      0                         1                          0   \n",
              "1                      0                         0                          1   \n",
              "2                      0                         1                          0   \n",
              "3                      0                         1                          0   \n",
              "4                      1                         0                          0   \n",
              "\n",
              "   sex_of_casualty_Female  sex_of_casualty_Male  accident_severity_Fatal  ...  \\\n",
              "0                       1                     0                        0  ...   \n",
              "1                       1                     0                        0  ...   \n",
              "2                       0                     1                        0  ...   \n",
              "3                       1                     0                        0  ...   \n",
              "4                       1                     0                        0  ...   \n",
              "\n",
              "   road_surface_conditions_Dry  road_surface_conditions_Flood  \\\n",
              "0                            0                              0   \n",
              "1                            1                              0   \n",
              "2                            0                              0   \n",
              "3                            1                              0   \n",
              "4                            0                              0   \n",
              "\n",
              "   road_surface_conditions_Frost  road_surface_conditions_Snow  \\\n",
              "0                              0                             0   \n",
              "1                              0                             0   \n",
              "2                              0                             0   \n",
              "3                              0                             0   \n",
              "4                              0                             0   \n",
              "\n",
              "   road_surface_conditions_Wet  urban_or_rural_area_Rural  \\\n",
              "0                            1                          0   \n",
              "1                            0                          0   \n",
              "2                            1                          0   \n",
              "3                            0                          1   \n",
              "4                            1                          1   \n",
              "\n",
              "   urban_or_rural_area_Urban  police_presence_No  \\\n",
              "0                          1                   0   \n",
              "1                          1                   0   \n",
              "2                          1                   0   \n",
              "3                          0                   0   \n",
              "4                          0                   0   \n",
              "\n",
              "   police_presence_Self rep only  police_presence_Yes  \n",
              "0                              0                    1  \n",
              "1                              0                    1  \n",
              "2                              0                    1  \n",
              "3                              0                    1  \n",
              "4                              0                    1  \n",
              "\n",
              "[5 rows x 47 columns]"
            ]
          },
          "execution_count": 169,
          "metadata": {},
          "output_type": "execute_result"
        }
      ],
      "source": [
        "train_frame.head()"
      ]
    },
    {
      "cell_type": "markdown",
      "metadata": {
        "id": "b8VARi8h4F0M"
      },
      "source": [
        "New columns are created accodring the different values of the previous dataframe column. If we check the dataframe we can see the new coloumns formed represeenting the variable category\n",
        "\n",
        "For example Variable **sex_0f_casualty** is changed to **sex_of_casualty_Male** and **Sex_of_casualty_Female** and rows has value of **1 and 0**"
      ]
    },
    {
      "cell_type": "code",
      "execution_count": null,
      "metadata": {
        "colab": {
          "base_uri": "https://localhost:8080/"
        },
        "id": "OrHx2WBDthZO",
        "outputId": "a0ab54ad-9d25-4ab1-837b-dd4fdcce3590"
      },
      "outputs": [
        {
          "name": "stdout",
          "output_type": "stream",
          "text": [
            "<class 'pandas.core.frame.DataFrame'>\n",
            "RangeIndex: 74759 entries, 0 to 74758\n",
            "Data columns (total 47 columns):\n",
            " #   Column                                      Non-Null Count  Dtype  \n",
            "---  ------                                      --------------  -----  \n",
            " 0   casualty_reference                          74759 non-null  int64  \n",
            " 1   age_of_casualty                             74759 non-null  int64  \n",
            " 2   casualty_severity                           74759 non-null  object \n",
            " 3   speed_limit                                 74759 non-null  float64\n",
            " 4   casualty_class_Driver                       74759 non-null  uint8  \n",
            " 5   casualty_class_Passenger                    74759 non-null  uint8  \n",
            " 6   casualty_class_Pedestrian                   74759 non-null  uint8  \n",
            " 7   sex_of_casualty_Female                      74759 non-null  uint8  \n",
            " 8   sex_of_casualty_Male                        74759 non-null  uint8  \n",
            " 9   accident_severity_Fatal                     74759 non-null  uint8  \n",
            " 10  accident_severity_Serious                   74759 non-null  uint8  \n",
            " 11  accident_severity_Slight                    74759 non-null  uint8  \n",
            " 12  car_passenger_Front seat passenger          74759 non-null  uint8  \n",
            " 13  car_passenger_Not car passenger             74759 non-null  uint8  \n",
            " 14  car_passenger_Rear seat passenger           74759 non-null  uint8  \n",
            " 15  junction_detail_Crossroads                  74759 non-null  uint8  \n",
            " 16  junction_detail_Mini-roundabout             74759 non-null  uint8  \n",
            " 17  junction_detail_Not Roundabout              74759 non-null  uint8  \n",
            " 18  junction_detail_Not at junction             74759 non-null  uint8  \n",
            " 19  junction_detail_Other junction              74759 non-null  uint8  \n",
            " 20  junction_detail_Private drive               74759 non-null  uint8  \n",
            " 21  junction_detail_Roundabout                  74759 non-null  uint8  \n",
            " 22  junction_detail_Slip road                   74759 non-null  uint8  \n",
            " 23  junction_detail_Staggered junction          74759 non-null  uint8  \n",
            " 24  light_conditions_Darkness-lighting unknown  74759 non-null  uint8  \n",
            " 25  light_conditions_Darkness-lights lit        74759 non-null  uint8  \n",
            " 26  light_conditions_Darkness-lights unlit      74759 non-null  uint8  \n",
            " 27  light_conditions_Darkness-no lighting       74759 non-null  uint8  \n",
            " 28  light_conditions_Daylight                   74759 non-null  uint8  \n",
            " 29  weather_conditions_Fine high winds          74759 non-null  uint8  \n",
            " 30  weather_conditions_Fine no high winds       74759 non-null  uint8  \n",
            " 31  weather_conditions_Fog                      74759 non-null  uint8  \n",
            " 32  weather_conditions_Raining high winds       74759 non-null  uint8  \n",
            " 33  weather_conditions_Raining no high winds    74759 non-null  uint8  \n",
            " 34  weather_conditions_Snowing high winds       74759 non-null  uint8  \n",
            " 35  weather_conditions_Snowing no high winds    74759 non-null  uint8  \n",
            " 36  weather_conditions_other                    74759 non-null  uint8  \n",
            " 37  road_surface_conditions_Dry                 74759 non-null  uint8  \n",
            " 38  road_surface_conditions_Flood               74759 non-null  uint8  \n",
            " 39  road_surface_conditions_Frost               74759 non-null  uint8  \n",
            " 40  road_surface_conditions_Snow                74759 non-null  uint8  \n",
            " 41  road_surface_conditions_Wet                 74759 non-null  uint8  \n",
            " 42  urban_or_rural_area_Rural                   74759 non-null  uint8  \n",
            " 43  urban_or_rural_area_Urban                   74759 non-null  uint8  \n",
            " 44  police_presence_No                          74759 non-null  uint8  \n",
            " 45  police_presence_Self rep only               74759 non-null  uint8  \n",
            " 46  police_presence_Yes                         74759 non-null  uint8  \n",
            "dtypes: float64(1), int64(2), object(1), uint8(43)\n",
            "memory usage: 5.3+ MB\n"
          ]
        }
      ],
      "source": [
        "train_frame.info()"
      ]
    },
    {
      "cell_type": "code",
      "execution_count": null,
      "metadata": {
        "colab": {
          "base_uri": "https://localhost:8080/",
          "height": 317
        },
        "id": "CfrSkN87tOAv",
        "outputId": "5b80c7bd-7242-4580-b430-c387c4fade7e"
      },
      "outputs": [
        {
          "data": {
            "text/html": [
              "<div>\n",
              "<style scoped>\n",
              "    .dataframe tbody tr th:only-of-type {\n",
              "        vertical-align: middle;\n",
              "    }\n",
              "\n",
              "    .dataframe tbody tr th {\n",
              "        vertical-align: top;\n",
              "    }\n",
              "\n",
              "    .dataframe thead th {\n",
              "        text-align: right;\n",
              "    }\n",
              "</style>\n",
              "<table border=\"1\" class=\"dataframe\">\n",
              "  <thead>\n",
              "    <tr style=\"text-align: right;\">\n",
              "      <th></th>\n",
              "      <th>casualty_reference</th>\n",
              "      <th>age_of_casualty</th>\n",
              "      <th>casualty_severity</th>\n",
              "      <th>speed_limit</th>\n",
              "      <th>casualty_class_Driver</th>\n",
              "      <th>casualty_class_Passenger</th>\n",
              "      <th>casualty_class_Pedestrian</th>\n",
              "      <th>sex_of_casualty_Female</th>\n",
              "      <th>sex_of_casualty_Male</th>\n",
              "      <th>accident_severity_Fatal</th>\n",
              "      <th>...</th>\n",
              "      <th>road_surface_conditions_Dry</th>\n",
              "      <th>road_surface_conditions_Flood</th>\n",
              "      <th>road_surface_conditions_Frost</th>\n",
              "      <th>road_surface_conditions_Snow</th>\n",
              "      <th>road_surface_conditions_Wet</th>\n",
              "      <th>urban_or_rural_area_Rural</th>\n",
              "      <th>urban_or_rural_area_Urban</th>\n",
              "      <th>police_presence_No</th>\n",
              "      <th>police_presence_Self rep only</th>\n",
              "      <th>police_presence_Yes</th>\n",
              "    </tr>\n",
              "  </thead>\n",
              "  <tbody>\n",
              "    <tr>\n",
              "      <th>0</th>\n",
              "      <td>1</td>\n",
              "      <td>31</td>\n",
              "      <td>Slight</td>\n",
              "      <td>60.0</td>\n",
              "      <td>1</td>\n",
              "      <td>0</td>\n",
              "      <td>0</td>\n",
              "      <td>0</td>\n",
              "      <td>1</td>\n",
              "      <td>0</td>\n",
              "      <td>...</td>\n",
              "      <td>1</td>\n",
              "      <td>0</td>\n",
              "      <td>0</td>\n",
              "      <td>0</td>\n",
              "      <td>0</td>\n",
              "      <td>1</td>\n",
              "      <td>0</td>\n",
              "      <td>0</td>\n",
              "      <td>0</td>\n",
              "      <td>1</td>\n",
              "    </tr>\n",
              "    <tr>\n",
              "      <th>1</th>\n",
              "      <td>1</td>\n",
              "      <td>41</td>\n",
              "      <td>Slight</td>\n",
              "      <td>30.0</td>\n",
              "      <td>0</td>\n",
              "      <td>0</td>\n",
              "      <td>1</td>\n",
              "      <td>1</td>\n",
              "      <td>0</td>\n",
              "      <td>0</td>\n",
              "      <td>...</td>\n",
              "      <td>1</td>\n",
              "      <td>0</td>\n",
              "      <td>0</td>\n",
              "      <td>0</td>\n",
              "      <td>0</td>\n",
              "      <td>0</td>\n",
              "      <td>1</td>\n",
              "      <td>0</td>\n",
              "      <td>0</td>\n",
              "      <td>1</td>\n",
              "    </tr>\n",
              "    <tr>\n",
              "      <th>2</th>\n",
              "      <td>1</td>\n",
              "      <td>25</td>\n",
              "      <td>Slight</td>\n",
              "      <td>60.0</td>\n",
              "      <td>1</td>\n",
              "      <td>0</td>\n",
              "      <td>0</td>\n",
              "      <td>0</td>\n",
              "      <td>1</td>\n",
              "      <td>0</td>\n",
              "      <td>...</td>\n",
              "      <td>1</td>\n",
              "      <td>0</td>\n",
              "      <td>0</td>\n",
              "      <td>0</td>\n",
              "      <td>0</td>\n",
              "      <td>1</td>\n",
              "      <td>0</td>\n",
              "      <td>0</td>\n",
              "      <td>0</td>\n",
              "      <td>1</td>\n",
              "    </tr>\n",
              "    <tr>\n",
              "      <th>3</th>\n",
              "      <td>1</td>\n",
              "      <td>72</td>\n",
              "      <td>Slight</td>\n",
              "      <td>60.0</td>\n",
              "      <td>1</td>\n",
              "      <td>0</td>\n",
              "      <td>0</td>\n",
              "      <td>0</td>\n",
              "      <td>1</td>\n",
              "      <td>0</td>\n",
              "      <td>...</td>\n",
              "      <td>1</td>\n",
              "      <td>0</td>\n",
              "      <td>0</td>\n",
              "      <td>0</td>\n",
              "      <td>0</td>\n",
              "      <td>1</td>\n",
              "      <td>0</td>\n",
              "      <td>0</td>\n",
              "      <td>0</td>\n",
              "      <td>1</td>\n",
              "    </tr>\n",
              "    <tr>\n",
              "      <th>4</th>\n",
              "      <td>1</td>\n",
              "      <td>25</td>\n",
              "      <td>Serious</td>\n",
              "      <td>30.0</td>\n",
              "      <td>1</td>\n",
              "      <td>0</td>\n",
              "      <td>0</td>\n",
              "      <td>0</td>\n",
              "      <td>1</td>\n",
              "      <td>0</td>\n",
              "      <td>...</td>\n",
              "      <td>1</td>\n",
              "      <td>0</td>\n",
              "      <td>0</td>\n",
              "      <td>0</td>\n",
              "      <td>0</td>\n",
              "      <td>0</td>\n",
              "      <td>1</td>\n",
              "      <td>0</td>\n",
              "      <td>0</td>\n",
              "      <td>1</td>\n",
              "    </tr>\n",
              "  </tbody>\n",
              "</table>\n",
              "<p>5 rows × 47 columns</p>\n",
              "</div>"
            ],
            "text/plain": [
              "   casualty_reference  age_of_casualty casualty_severity  speed_limit  \\\n",
              "0                   1               31            Slight         60.0   \n",
              "1                   1               41            Slight         30.0   \n",
              "2                   1               25            Slight         60.0   \n",
              "3                   1               72            Slight         60.0   \n",
              "4                   1               25           Serious         30.0   \n",
              "\n",
              "   casualty_class_Driver  casualty_class_Passenger  casualty_class_Pedestrian  \\\n",
              "0                      1                         0                          0   \n",
              "1                      0                         0                          1   \n",
              "2                      1                         0                          0   \n",
              "3                      1                         0                          0   \n",
              "4                      1                         0                          0   \n",
              "\n",
              "   sex_of_casualty_Female  sex_of_casualty_Male  accident_severity_Fatal  ...  \\\n",
              "0                       0                     1                        0  ...   \n",
              "1                       1                     0                        0  ...   \n",
              "2                       0                     1                        0  ...   \n",
              "3                       0                     1                        0  ...   \n",
              "4                       0                     1                        0  ...   \n",
              "\n",
              "   road_surface_conditions_Dry  road_surface_conditions_Flood  \\\n",
              "0                            1                              0   \n",
              "1                            1                              0   \n",
              "2                            1                              0   \n",
              "3                            1                              0   \n",
              "4                            1                              0   \n",
              "\n",
              "   road_surface_conditions_Frost  road_surface_conditions_Snow  \\\n",
              "0                              0                             0   \n",
              "1                              0                             0   \n",
              "2                              0                             0   \n",
              "3                              0                             0   \n",
              "4                              0                             0   \n",
              "\n",
              "   road_surface_conditions_Wet  urban_or_rural_area_Rural  \\\n",
              "0                            0                          1   \n",
              "1                            0                          0   \n",
              "2                            0                          1   \n",
              "3                            0                          1   \n",
              "4                            0                          0   \n",
              "\n",
              "   urban_or_rural_area_Urban  police_presence_No  \\\n",
              "0                          0                   0   \n",
              "1                          1                   0   \n",
              "2                          0                   0   \n",
              "3                          0                   0   \n",
              "4                          1                   0   \n",
              "\n",
              "   police_presence_Self rep only  police_presence_Yes  \n",
              "0                              0                    1  \n",
              "1                              0                    1  \n",
              "2                              0                    1  \n",
              "3                              0                    1  \n",
              "4                              0                    1  \n",
              "\n",
              "[5 rows x 47 columns]"
            ]
          },
          "execution_count": 171,
          "metadata": {},
          "output_type": "execute_result"
        }
      ],
      "source": [
        "test_frame.head()"
      ]
    },
    {
      "cell_type": "code",
      "execution_count": null,
      "metadata": {
        "colab": {
          "base_uri": "https://localhost:8080/"
        },
        "id": "avlsynwU3qSE",
        "outputId": "f68286ae-4ad5-4db9-98fb-e57848d8ee81"
      },
      "outputs": [
        {
          "name": "stdout",
          "output_type": "stream",
          "text": [
            "<class 'pandas.core.frame.DataFrame'>\n",
            "RangeIndex: 18690 entries, 0 to 18689\n",
            "Data columns (total 47 columns):\n",
            " #   Column                                      Non-Null Count  Dtype  \n",
            "---  ------                                      --------------  -----  \n",
            " 0   casualty_reference                          18690 non-null  int64  \n",
            " 1   age_of_casualty                             18690 non-null  int64  \n",
            " 2   casualty_severity                           18690 non-null  object \n",
            " 3   speed_limit                                 18690 non-null  float64\n",
            " 4   casualty_class_Driver                       18690 non-null  uint8  \n",
            " 5   casualty_class_Passenger                    18690 non-null  uint8  \n",
            " 6   casualty_class_Pedestrian                   18690 non-null  uint8  \n",
            " 7   sex_of_casualty_Female                      18690 non-null  uint8  \n",
            " 8   sex_of_casualty_Male                        18690 non-null  uint8  \n",
            " 9   accident_severity_Fatal                     18690 non-null  uint8  \n",
            " 10  accident_severity_Serious                   18690 non-null  uint8  \n",
            " 11  accident_severity_Slight                    18690 non-null  uint8  \n",
            " 12  car_passenger_Front seat passenger          18690 non-null  uint8  \n",
            " 13  car_passenger_Not car passenger             18690 non-null  uint8  \n",
            " 14  car_passenger_Rear seat passenger           18690 non-null  uint8  \n",
            " 15  junction_detail_Crossroads                  18690 non-null  uint8  \n",
            " 16  junction_detail_Mini-roundabout             18690 non-null  uint8  \n",
            " 17  junction_detail_Not Roundabout              18690 non-null  uint8  \n",
            " 18  junction_detail_Not at junction             18690 non-null  uint8  \n",
            " 19  junction_detail_Other junction              18690 non-null  uint8  \n",
            " 20  junction_detail_Private drive               18690 non-null  uint8  \n",
            " 21  junction_detail_Roundabout                  18690 non-null  uint8  \n",
            " 22  junction_detail_Slip road                   18690 non-null  uint8  \n",
            " 23  junction_detail_Staggered junction          18690 non-null  uint8  \n",
            " 24  light_conditions_Darkness-lighting unknown  18690 non-null  uint8  \n",
            " 25  light_conditions_Darkness-lights lit        18690 non-null  uint8  \n",
            " 26  light_conditions_Darkness-lights unlit      18690 non-null  uint8  \n",
            " 27  light_conditions_Darkness-no lighting       18690 non-null  uint8  \n",
            " 28  light_conditions_Daylight                   18690 non-null  uint8  \n",
            " 29  weather_conditions_Fine high winds          18690 non-null  uint8  \n",
            " 30  weather_conditions_Fine no high winds       18690 non-null  uint8  \n",
            " 31  weather_conditions_Fog                      18690 non-null  uint8  \n",
            " 32  weather_conditions_Raining high winds       18690 non-null  uint8  \n",
            " 33  weather_conditions_Raining no high winds    18690 non-null  uint8  \n",
            " 34  weather_conditions_Snowing high winds       18690 non-null  uint8  \n",
            " 35  weather_conditions_Snowing no high winds    18690 non-null  uint8  \n",
            " 36  weather_conditions_other                    18690 non-null  uint8  \n",
            " 37  road_surface_conditions_Dry                 18690 non-null  uint8  \n",
            " 38  road_surface_conditions_Flood               18690 non-null  uint8  \n",
            " 39  road_surface_conditions_Frost               18690 non-null  uint8  \n",
            " 40  road_surface_conditions_Snow                18690 non-null  uint8  \n",
            " 41  road_surface_conditions_Wet                 18690 non-null  uint8  \n",
            " 42  urban_or_rural_area_Rural                   18690 non-null  uint8  \n",
            " 43  urban_or_rural_area_Urban                   18690 non-null  uint8  \n",
            " 44  police_presence_No                          18690 non-null  uint8  \n",
            " 45  police_presence_Self rep only               18690 non-null  uint8  \n",
            " 46  police_presence_Yes                         18690 non-null  uint8  \n",
            "dtypes: float64(1), int64(2), object(1), uint8(43)\n",
            "memory usage: 1.3+ MB\n"
          ]
        }
      ],
      "source": [
        "test_frame.info()"
      ]
    },
    {
      "cell_type": "markdown",
      "metadata": {
        "id": "veI090fB60YJ"
      },
      "source": [
        "## **4.2 Data spliting**\n",
        "\n",
        "When machine learning algorithms are used to predict on data not used to train the model, the train-test split procedure is used to estimate their performance.\n",
        "\n",
        "**Test Dataset**: Used to evaluate the fit of the machine learning model.\n",
        "\n",
        "**Train Dataset**: Used to fit the machine learning model.\n",
        "\n",
        "We have a large dataset with 74759 rows. So spliting the dataset in the ratio of 80:20 for trainset and testset done and imported data.\n",
        "\n",
        "Here dataset is already randomly splitted during the group work. so creating X_train,X_test,y_train,y_test manually without shuffling."
      ]
    },
    {
      "cell_type": "code",
      "execution_count": null,
      "metadata": {
        "id": "aUoG8ZcpHfOR"
      },
      "outputs": [],
      "source": [
        "X_train = train_frame.drop(\"casualty_severity\",axis=1)\n",
        "X_test = test_frame.drop(\"casualty_severity\",axis=1)\n",
        "\n",
        "y_train = train_frame[\"casualty_severity\"]\n",
        "y_test = test_frame[\"casualty_severity\"]"
      ]
    },
    {
      "cell_type": "markdown",
      "metadata": {
        "id": "zPNARdxsNCMd"
      },
      "source": [
        "## **4.3 Model Training**\n",
        "\n",
        "### **4.3.1 Baseline Method**\n",
        "\n",
        "\n",
        "The baseline is created by using heuristics, simple summary statistics, or randomness to predict the outcomes of a dataset. These predictions become the metric used to evaluate the baseline (e.g., accuracy). Here we are doing the baseline to find the minimum required values for the learning models\n"
      ]
    },
    {
      "cell_type": "code",
      "execution_count": null,
      "metadata": {
        "colab": {
          "base_uri": "https://localhost:8080/"
        },
        "id": "21jSSzwhPUa9",
        "outputId": "77ff5973-b221-4273-fedb-cc206862954f"
      },
      "outputs": [
        {
          "name": "stdout",
          "output_type": "stream",
          "text": [
            "Accuracy: 79.81 %\n"
          ]
        }
      ],
      "source": [
        "#Baseline Method\n",
        "# zero rule algorithm for classification\n",
        "def zero_rule_algorithm_classification(train, test):\n",
        "\toutput_values = [row[\"casualty_severity\"] for index,row in train.iterrows()]\n",
        "\tprediction = max(set(output_values), key=output_values.count)\n",
        "\tpredicted = [prediction for i in range(len(test))]\n",
        "\treturn predicted\n",
        "\n",
        "predicted = zero_rule_algorithm_classification(train_frame, test_frame)\n",
        "print(\"Accuracy:\",round(metrics.accuracy_score(y_test, predicted)* 100,2),\"%\")"
      ]
    },
    {
      "cell_type": "markdown",
      "metadata": {
        "id": "udzydwPDPdU-"
      },
      "source": [
        "So we need to create models that has the values greater than **79.81%**. We are making this as a bench mark for checking the accuracy of other models"
      ]
    },
    {
      "cell_type": "markdown",
      "metadata": {
        "id": "feKxxhAwPdU-"
      },
      "source": [
        "### **4.3.2 Randomforest Model**\n",
        "\n",
        "In classification and regression problems, random forests are used vastly as supervised machine learning algorithms. \n",
        "\n",
        "The random forest algorithm is an easy-to-use, flexible method of machine learning that produces a good result almost without tuning the hyperparameters. Random forest serves both classification and regression purposes, which is one of its main advantages. Here we have a classification problem due to fact that our traget varible has three classes.By utilizing a random subset of features for splitting each node, trees can even be made to appear more random by additionally using random thresholds for each feature rather than looking for the best threshold possible.\n",
        "\n",
        "Random state is given zero for avaoiding model accuracy change during different runs of the model. We need to get a uniform accuracy value.\n",
        "\n",
        "1st line initialise the model and during the running of second line model learns the data.\n",
        "\n"
      ]
    },
    {
      "cell_type": "code",
      "execution_count": null,
      "metadata": {
        "colab": {
          "base_uri": "https://localhost:8080/"
        },
        "id": "vZcmpS4l_ckL",
        "outputId": "83718674-f37c-4dce-f3fc-e8e6b26657b3"
      },
      "outputs": [
        {
          "data": {
            "text/plain": [
              "RandomForestClassifier(random_state=0)"
            ]
          },
          "execution_count": 175,
          "metadata": {},
          "output_type": "execute_result"
        }
      ],
      "source": [
        "# Training the model\n",
        "random_forest_classifier = RandomForestClassifier(random_state=0)\n",
        "random_forest_classifier.fit(X_train,y_train)"
      ]
    },
    {
      "cell_type": "markdown",
      "metadata": {
        "id": "60irmRR5PdU_"
      },
      "source": [
        "Here verifying model with an unseen testdata and storing the value to **y_pred**"
      ]
    },
    {
      "cell_type": "code",
      "execution_count": null,
      "metadata": {
        "id": "6tKmYRkgMa3h"
      },
      "outputs": [],
      "source": [
        "# Testing the model\n",
        "y_pred=random_forest_classifier.predict(X_test)"
      ]
    },
    {
      "cell_type": "markdown",
      "metadata": {
        "id": "ThhDCVfOG-DO"
      },
      "source": [
        "#### **4.3.2.1 Model evaluation - Random Forest**"
      ]
    },
    {
      "cell_type": "code",
      "execution_count": null,
      "metadata": {
        "colab": {
          "base_uri": "https://localhost:8080/"
        },
        "id": "U93PLk97MlnM",
        "outputId": "acde1975-b451-4daf-ce0d-66304fc52c71"
      },
      "outputs": [
        {
          "name": "stdout",
          "output_type": "stream",
          "text": [
            "Accuracy: 93.3 %\n"
          ]
        }
      ],
      "source": [
        "# Model evaluvation\n",
        "print(\"Accuracy:\",round(metrics.accuracy_score(y_test, y_pred)* 100,2),\"%\")"
      ]
    },
    {
      "cell_type": "markdown",
      "metadata": {
        "id": "u7YtRsBBEpv0"
      },
      "source": [
        "#### **4.3.2.2 Checking the Precision, Recall, F1-Score - Random Forest**\n",
        "\n",
        "We have a very high accuracy but we have to check the model in depth due to the fact that our dataset is unbalanced. For that we need to check **Precision,Recall and F1 Score**\n",
        "\n",
        "**Precision** = The precision value of a good classifier should be quite high, preferably 1. Precision becomes 1 only if the numerator and denominator are equal, TP = TP + FP, so FP is zero. As FP is increased, the value of the denominator becomes greater than the numerator, reducing precision.\n",
        "\n",
        "**Recall** = An ideal recall is 1 (high) for a good classifier. Recall becomes 1 only when the denominator and the numerator are equal. As FN increases, the numerator becomes greater than denominator and the recall gradually decreases.\n",
        "\n",
        "**F1 Score** = A high F1 score can only be achieved when both precision and recall ratios are high. The F1 score is a better measure than accuracy because it is the harmonic mean of precision and recall.\n",
        "\n",
        "By checking we will be knowing more about the fatal, serious and slight"
      ]
    },
    {
      "cell_type": "code",
      "execution_count": null,
      "metadata": {
        "colab": {
          "base_uri": "https://localhost:8080/",
          "height": 380
        },
        "id": "z7u5li9awYlT",
        "outputId": "b15d30db-e7d8-4263-c3ef-f5eacb412096"
      },
      "outputs": [
        {
          "name": "stdout",
          "output_type": "stream",
          "text": [
            "              precision    recall  f1-score   support\n",
            "\n",
            "       Fatal   0.720779  0.816176  0.765517       272\n",
            "     Serious   0.808522  0.866933  0.836709      3502\n",
            "      Slight   0.969440  0.950657  0.959957     14916\n",
            "\n",
            "    accuracy                       0.933012     18690\n",
            "   macro avg   0.832914  0.877922  0.854061     18690\n",
            "weighted avg   0.935670  0.933012  0.934034     18690\n",
            "\n"
          ]
        },
        {
          "data": {
            "text/html": [
              "<div>\n",
              "<style scoped>\n",
              "    .dataframe tbody tr th:only-of-type {\n",
              "        vertical-align: middle;\n",
              "    }\n",
              "\n",
              "    .dataframe tbody tr th {\n",
              "        vertical-align: top;\n",
              "    }\n",
              "\n",
              "    .dataframe thead th {\n",
              "        text-align: right;\n",
              "    }\n",
              "</style>\n",
              "<table border=\"1\" class=\"dataframe\">\n",
              "  <thead>\n",
              "    <tr style=\"text-align: right;\">\n",
              "      <th>Predicted</th>\n",
              "      <th>Fatal</th>\n",
              "      <th>Serious</th>\n",
              "      <th>Slight</th>\n",
              "      <th>All</th>\n",
              "    </tr>\n",
              "    <tr>\n",
              "      <th>Actual</th>\n",
              "      <th></th>\n",
              "      <th></th>\n",
              "      <th></th>\n",
              "      <th></th>\n",
              "    </tr>\n",
              "  </thead>\n",
              "  <tbody>\n",
              "    <tr>\n",
              "      <th>Fatal</th>\n",
              "      <td>222</td>\n",
              "      <td>24</td>\n",
              "      <td>26</td>\n",
              "      <td>272</td>\n",
              "    </tr>\n",
              "    <tr>\n",
              "      <th>Serious</th>\n",
              "      <td>45</td>\n",
              "      <td>3036</td>\n",
              "      <td>421</td>\n",
              "      <td>3502</td>\n",
              "    </tr>\n",
              "    <tr>\n",
              "      <th>Slight</th>\n",
              "      <td>41</td>\n",
              "      <td>695</td>\n",
              "      <td>14180</td>\n",
              "      <td>14916</td>\n",
              "    </tr>\n",
              "    <tr>\n",
              "      <th>All</th>\n",
              "      <td>308</td>\n",
              "      <td>3755</td>\n",
              "      <td>14627</td>\n",
              "      <td>18690</td>\n",
              "    </tr>\n",
              "  </tbody>\n",
              "</table>\n",
              "</div>"
            ],
            "text/plain": [
              "Predicted  Fatal  Serious  Slight    All\n",
              "Actual                                  \n",
              "Fatal        222       24      26    272\n",
              "Serious       45     3036     421   3502\n",
              "Slight        41      695   14180  14916\n",
              "All          308     3755   14627  18690"
            ]
          },
          "execution_count": 178,
          "metadata": {},
          "output_type": "execute_result"
        }
      ],
      "source": [
        "sk_report = classification_report(\n",
        "    digits=6,\n",
        "    y_true=y_test, \n",
        "    y_pred=y_pred)\n",
        "print(sk_report)\n",
        "pd.crosstab(y_test, y_pred, rownames=['Actual'], colnames=['Predicted'], margins=True)"
      ]
    },
    {
      "cell_type": "markdown",
      "metadata": {
        "id": "6TiMN7uRPdVA"
      },
      "source": [
        "When we check the precision values of slight it is **0.96** but that of Fatal is **0.72**, Also the values are in similar pattern in Recall. Recall value is more vital when it comes to categorical values.\n",
        "\n",
        "so we understand that fatal cases is less accuratly predicated compared to slight"
      ]
    },
    {
      "cell_type": "markdown",
      "metadata": {
        "id": "LVXCe1MRCDN_"
      },
      "source": [
        "#### **4.3.2`.3 Confusion Matrix - Random Forest**\n",
        "\n",
        "The confusion matrix allows us to visualize the performance of our machine learning model. Having this visualization makes it easier for us to understand how it is performing.\n",
        "\n",
        "In our case even though the accuracy is 93.3% but model may have a chance of failure as the target variable distribution is not uniform. ie percentage of fatal is less compared to the serious and slight. NHS needs to know the severity of the accident correctly so that they can provide the care accordingly."
      ]
    },
    {
      "cell_type": "code",
      "execution_count": null,
      "metadata": {
        "id": "ExkrUzLqSijY"
      },
      "outputs": [],
      "source": [
        "matrix_confusion = confusion_matrix(y_test, y_pred)"
      ]
    },
    {
      "cell_type": "code",
      "execution_count": null,
      "metadata": {
        "colab": {
          "base_uri": "https://localhost:8080/",
          "height": 428
        },
        "id": "OSiLfO7USCZc",
        "outputId": "8124b011-a0a6-44b1-a40b-99255d3c8737"
      },
      "outputs": [
        {
          "data": {
            "image/png": "[encoded data removed]",
            "text/plain": [
              "<Figure size 720x432 with 2 Axes>"
            ]
          },
          "metadata": {},
          "output_type": "display_data"
        }
      ],
      "source": [
        "matrix_confusion = confusion_matrix(y_test, y_pred)\n",
        "# set seaborn heatmap title, x-axis, y-axis label and font size\n",
        "plt.figure(figsize=(10,6))\n",
        "ax = sns.heatmap(matrix_confusion, annot=True,annot_kws={\"size\": 14}, fmt='g', cmap='Greens' )\n",
        "ax.set(title=\"Heatmap of Confusion Matrix\\n\",\n",
        "      xlabel=\"Predicted Values\",\n",
        "      ylabel=\"Actual Values\")\n",
        "ax.xaxis.set_ticklabels(random_forest_classifier.classes_,fontsize=12) \n",
        "ax.yaxis.set_ticklabels(random_forest_classifier.classes_,fontsize=12);\n",
        "sns.set(font_scale=1) # set fontsize 2"
      ]
    },
    {
      "cell_type": "markdown",
      "metadata": {
        "id": "KECgb1efPdVC"
      },
      "source": [
        "Here we are getting a very good accuracy but due to the unbalanced data we need to check the other models as well. We need to check the precision value and recall value of each models to get the best model."
      ]
    },
    {
      "cell_type": "markdown",
      "metadata": {
        "id": "5usadWMGN0GK"
      },
      "source": [
        "### **4.3.3 Decision Tree**\n",
        "\n",
        "Using a Decision Tree as a training model is the process of learning simple decision rules inferred from the training data to predict the value of a target variable. Feature-based decision trees can be used for both classifications and regressions. Their name implies that they use flowchart-like structures to represent the predictions they produce. They start with a root node and end with a decision made by leaves\n",
        "\n",
        "\n",
        "Here also we use **random state =0** for avioding the situvation of value change arbitrarily\n",
        "\n",
        "\n"
      ]
    },
    {
      "cell_type": "code",
      "execution_count": null,
      "metadata": {
        "id": "GRaP7VfbN2k0"
      },
      "outputs": [],
      "source": [
        "decisionTree = DecisionTreeClassifier(random_state=0)"
      ]
    },
    {
      "cell_type": "code",
      "execution_count": null,
      "metadata": {
        "colab": {
          "base_uri": "https://localhost:8080/"
        },
        "id": "mW9jPup1N9Cd",
        "outputId": "5c3fd259-a471-4b2f-9305-54cb66fff7e9"
      },
      "outputs": [
        {
          "data": {
            "text/plain": [
              "DecisionTreeClassifier(random_state=0)"
            ]
          },
          "execution_count": 182,
          "metadata": {},
          "output_type": "execute_result"
        }
      ],
      "source": [
        "# Training the model\n",
        "decisionTree.fit(X_train,y_train)"
      ]
    },
    {
      "cell_type": "markdown",
      "metadata": {
        "id": "RmpPvejbPdVD"
      },
      "source": [
        "Checking the model with testset"
      ]
    },
    {
      "cell_type": "code",
      "execution_count": null,
      "metadata": {
        "id": "RMJEeW66OmeB"
      },
      "outputs": [],
      "source": [
        "# Testing the model\n",
        "y_pred=decisionTree.predict(X_test)"
      ]
    },
    {
      "cell_type": "markdown",
      "metadata": {
        "id": "fp03V8d1HYE9"
      },
      "source": [
        "#### **4.3.3.1 Model evaluation - Decision Tree**"
      ]
    },
    {
      "cell_type": "code",
      "execution_count": null,
      "metadata": {
        "colab": {
          "base_uri": "https://localhost:8080/"
        },
        "id": "zVgR3vjnOout",
        "outputId": "c7513d68-4eda-434d-e062-12ba502b8d31"
      },
      "outputs": [
        {
          "name": "stdout",
          "output_type": "stream",
          "text": [
            "Accuracy: 92.79 %\n"
          ]
        }
      ],
      "source": [
        "# Model evaluvation\n",
        "print(\"Accuracy:\",round(metrics.accuracy_score(y_test, y_pred)* 100,2),\"%\")"
      ]
    },
    {
      "cell_type": "markdown",
      "metadata": {
        "id": "K2-Eb6VOILQL"
      },
      "source": [
        "#### **4.3.3.2 Checking the Precision, Recall, F1-Score - Decision Tree**\n",
        "\n",
        "\n",
        "Checking the **Precision, Recall and F1-score** to understandd the model effectives in the fatal,slight and serious"
      ]
    },
    {
      "cell_type": "code",
      "execution_count": null,
      "metadata": {
        "colab": {
          "base_uri": "https://localhost:8080/",
          "height": 380
        },
        "id": "vvXqfmeBzJCR",
        "outputId": "7dcc945a-f168-4453-c391-3e41efd5de9a"
      },
      "outputs": [
        {
          "name": "stdout",
          "output_type": "stream",
          "text": [
            "              precision    recall  f1-score   support\n",
            "\n",
            "       Fatal   0.744604  0.761029  0.752727       272\n",
            "     Serious   0.806345  0.834666  0.820261      3502\n",
            "      Slight   0.961182  0.952869  0.957008     14916\n",
            "\n",
            "    accuracy                       0.927929     18690\n",
            "   macro avg   0.837377  0.849522  0.843332     18690\n",
            "weighted avg   0.929018  0.927929  0.928412     18690\n",
            "\n"
          ]
        },
        {
          "data": {
            "text/html": [
              "<div>\n",
              "<style scoped>\n",
              "    .dataframe tbody tr th:only-of-type {\n",
              "        vertical-align: middle;\n",
              "    }\n",
              "\n",
              "    .dataframe tbody tr th {\n",
              "        vertical-align: top;\n",
              "    }\n",
              "\n",
              "    .dataframe thead th {\n",
              "        text-align: right;\n",
              "    }\n",
              "</style>\n",
              "<table border=\"1\" class=\"dataframe\">\n",
              "  <thead>\n",
              "    <tr style=\"text-align: right;\">\n",
              "      <th>Predicted</th>\n",
              "      <th>Fatal</th>\n",
              "      <th>Serious</th>\n",
              "      <th>Slight</th>\n",
              "      <th>All</th>\n",
              "    </tr>\n",
              "    <tr>\n",
              "      <th>Actual</th>\n",
              "      <th></th>\n",
              "      <th></th>\n",
              "      <th></th>\n",
              "      <th></th>\n",
              "    </tr>\n",
              "  </thead>\n",
              "  <tbody>\n",
              "    <tr>\n",
              "      <th>Fatal</th>\n",
              "      <td>207</td>\n",
              "      <td>31</td>\n",
              "      <td>34</td>\n",
              "      <td>272</td>\n",
              "    </tr>\n",
              "    <tr>\n",
              "      <th>Serious</th>\n",
              "      <td>39</td>\n",
              "      <td>2923</td>\n",
              "      <td>540</td>\n",
              "      <td>3502</td>\n",
              "    </tr>\n",
              "    <tr>\n",
              "      <th>Slight</th>\n",
              "      <td>32</td>\n",
              "      <td>671</td>\n",
              "      <td>14213</td>\n",
              "      <td>14916</td>\n",
              "    </tr>\n",
              "    <tr>\n",
              "      <th>All</th>\n",
              "      <td>278</td>\n",
              "      <td>3625</td>\n",
              "      <td>14787</td>\n",
              "      <td>18690</td>\n",
              "    </tr>\n",
              "  </tbody>\n",
              "</table>\n",
              "</div>"
            ],
            "text/plain": [
              "Predicted  Fatal  Serious  Slight    All\n",
              "Actual                                  \n",
              "Fatal        207       31      34    272\n",
              "Serious       39     2923     540   3502\n",
              "Slight        32      671   14213  14916\n",
              "All          278     3625   14787  18690"
            ]
          },
          "execution_count": 185,
          "metadata": {},
          "output_type": "execute_result"
        }
      ],
      "source": [
        "sk_report = classification_report(\n",
        "    digits=6,\n",
        "    y_true=y_test, \n",
        "    y_pred=y_pred)\n",
        "print(sk_report)\n",
        "### Confusion Matrix \n",
        "pd.crosstab(y_test, y_pred, rownames=['Actual'], colnames=['Predicted'], margins=True)"
      ]
    },
    {
      "cell_type": "markdown",
      "metadata": {
        "id": "AEdULHKBIlDO"
      },
      "source": [
        "#### **4.3.3.3 Confusion Matrix - Decision Tree**"
      ]
    },
    {
      "cell_type": "code",
      "execution_count": null,
      "metadata": {
        "colab": {
          "base_uri": "https://localhost:8080/",
          "height": 428
        },
        "id": "lo12DbBMZD_c",
        "outputId": "5c5268b7-62ec-4468-9851-6f3088983b58"
      },
      "outputs": [
        {
          "data": {
            "image/png": "[encoded data removed]",
            "text/plain": [
              "<Figure size 720x432 with 2 Axes>"
            ]
          },
          "metadata": {},
          "output_type": "display_data"
        }
      ],
      "source": [
        "matrix_confusion = confusion_matrix(y_test, y_pred)\n",
        "# set seaborn heatmap title, x-axis, y-axis label and font size\n",
        "plt.figure(figsize=(10,6))\n",
        "ax = sns.heatmap(matrix_confusion, annot=True,annot_kws={\"size\": 14}, fmt='g', cmap='Greens' )\n",
        "ax.set(title=\"Heatmap of Confusion Matrix\\n\",\n",
        "      xlabel=\"Predicted Values\",\n",
        "      ylabel=\"Actual Values\")\n",
        "ax.xaxis.set_ticklabels(random_forest_classifier.classes_,fontsize=12) \n",
        "ax.yaxis.set_ticklabels(random_forest_classifier.classes_,fontsize=12);\n",
        "sns.set(font_scale=1) # set fontsize 2"
      ]
    },
    {
      "cell_type": "markdown",
      "metadata": {
        "id": "JieEzy06zmf_"
      },
      "source": [
        "### **4.3.4 Support Vector Machine**\n",
        "\n",
        "The SVM classifier is an approach that best separates two classes (hyper-plane and line) on the basis of support vectors. However, in our scenario we have three classes which can be solved by modifying the SVM algorithm using a one vs one approach.\n",
        "In multi-class classification, One-vs-All or OvA are heuristic methods for using binary classification algorithms. One-vs-rest (OvR) is a method for using binary classification algorithms. In this method, the multiclass dataset is split into multiple binary classification problems, and a binary classifier is trained on each of those binary classification problems. Predictive models are then made using the most confident model."
      ]
    },
    {
      "cell_type": "code",
      "execution_count": null,
      "metadata": {
        "colab": {
          "base_uri": "https://localhost:8080/"
        },
        "id": "c6Lpz8NXzpuR",
        "outputId": "00ffbfde-8f43-41e1-97a6-416aab8977cb"
      },
      "outputs": [
        {
          "data": {
            "text/plain": [
              "SVC(decision_function_shape='ovo', kernel='poly')"
            ]
          },
          "execution_count": 187,
          "metadata": {},
          "output_type": "execute_result"
        }
      ],
      "source": [
        "SVM = svm.SVC(decision_function_shape='ovo',kernel='poly')\n",
        "SVM.fit(X_train,y_train)"
      ]
    },
    {
      "cell_type": "code",
      "execution_count": null,
      "metadata": {
        "id": "J3xWogTkzp0a"
      },
      "outputs": [],
      "source": [
        "y_pred = SVM.predict(X_test)"
      ]
    },
    {
      "cell_type": "code",
      "execution_count": null,
      "metadata": {
        "colab": {
          "base_uri": "https://localhost:8080/"
        },
        "id": "8ABAwgSdRCvq",
        "outputId": "bbc4afa9-46e5-49a2-d999-74c86e5ecfb8"
      },
      "outputs": [
        {
          "data": {
            "text/plain": [
              "array(['Fatal', 'Serious', 'Slight'], dtype=object)"
            ]
          },
          "execution_count": 189,
          "metadata": {},
          "output_type": "execute_result"
        }
      ],
      "source": [
        "np.unique(y_pred)"
      ]
    },
    {
      "cell_type": "markdown",
      "metadata": {
        "id": "2nAcutmVJ5eq"
      },
      "source": [
        "#### **4.3.4.1 Model evaluation - SVM**"
      ]
    },
    {
      "cell_type": "code",
      "execution_count": null,
      "metadata": {
        "colab": {
          "base_uri": "https://localhost:8080/"
        },
        "id": "hYnZcFmozqAk",
        "outputId": "da3250b8-abe2-416f-8ea8-990f791e8af1"
      },
      "outputs": [
        {
          "name": "stdout",
          "output_type": "stream",
          "text": [
            "Accuracy: 91.94 %\n"
          ]
        }
      ],
      "source": [
        "# Model evaluvation\n",
        "print(\"Accuracy:\",round(metrics.accuracy_score(y_test, y_pred)* 100,2),\"%\")"
      ]
    },
    {
      "cell_type": "code",
      "execution_count": null,
      "metadata": {
        "id": "lEZmkVDOPdVG",
        "outputId": "f96a05d0-db0c-4611-97d1-b3e19464a715"
      },
      "outputs": [
        {
          "name": "stdout",
          "output_type": "stream",
          "text": [
            "              precision    recall  f1-score   support\n",
            "\n",
            "       Fatal   0.693227  0.639706  0.665392       272\n",
            "     Serious   0.787159  0.833238  0.809544      3502\n",
            "      Slight   0.956489  0.944690  0.950553     14916\n",
            "\n",
            "    accuracy                       0.919369     18690\n",
            "   macro avg   0.812292  0.805878  0.808496     18690\n",
            "weighted avg   0.920930  0.919369  0.919982     18690\n",
            "\n"
          ]
        },
        {
          "data": {
            "text/html": [
              "<div>\n",
              "<style scoped>\n",
              "    .dataframe tbody tr th:only-of-type {\n",
              "        vertical-align: middle;\n",
              "    }\n",
              "\n",
              "    .dataframe tbody tr th {\n",
              "        vertical-align: top;\n",
              "    }\n",
              "\n",
              "    .dataframe thead th {\n",
              "        text-align: right;\n",
              "    }\n",
              "</style>\n",
              "<table border=\"1\" class=\"dataframe\">\n",
              "  <thead>\n",
              "    <tr style=\"text-align: right;\">\n",
              "      <th>Predicted</th>\n",
              "      <th>Fatal</th>\n",
              "      <th>Serious</th>\n",
              "      <th>Slight</th>\n",
              "      <th>All</th>\n",
              "    </tr>\n",
              "    <tr>\n",
              "      <th>Actual</th>\n",
              "      <th></th>\n",
              "      <th></th>\n",
              "      <th></th>\n",
              "      <th></th>\n",
              "    </tr>\n",
              "  </thead>\n",
              "  <tbody>\n",
              "    <tr>\n",
              "      <th>Fatal</th>\n",
              "      <td>174</td>\n",
              "      <td>0</td>\n",
              "      <td>98</td>\n",
              "      <td>272</td>\n",
              "    </tr>\n",
              "    <tr>\n",
              "      <th>Serious</th>\n",
              "      <td>41</td>\n",
              "      <td>2918</td>\n",
              "      <td>543</td>\n",
              "      <td>3502</td>\n",
              "    </tr>\n",
              "    <tr>\n",
              "      <th>Slight</th>\n",
              "      <td>36</td>\n",
              "      <td>789</td>\n",
              "      <td>14091</td>\n",
              "      <td>14916</td>\n",
              "    </tr>\n",
              "    <tr>\n",
              "      <th>All</th>\n",
              "      <td>251</td>\n",
              "      <td>3707</td>\n",
              "      <td>14732</td>\n",
              "      <td>18690</td>\n",
              "    </tr>\n",
              "  </tbody>\n",
              "</table>\n",
              "</div>"
            ],
            "text/plain": [
              "Predicted  Fatal  Serious  Slight    All\n",
              "Actual                                  \n",
              "Fatal        174        0      98    272\n",
              "Serious       41     2918     543   3502\n",
              "Slight        36      789   14091  14916\n",
              "All          251     3707   14732  18690"
            ]
          },
          "execution_count": 191,
          "metadata": {},
          "output_type": "execute_result"
        }
      ],
      "source": [
        "sk_report = classification_report(\n",
        "    digits=6,\n",
        "    y_true=y_test, \n",
        "    y_pred=y_pred)\n",
        "print(sk_report)\n",
        "### Confusion Matrix \n",
        "pd.crosstab(y_test, y_pred, rownames=['Actual'], colnames=['Predicted'], margins=True)"
      ]
    },
    {
      "cell_type": "markdown",
      "metadata": {
        "id": "cVsc8Pj1KF_I"
      },
      "source": [
        "#### **4.3.4.2 Confusion Matrix - SVM**"
      ]
    },
    {
      "cell_type": "code",
      "execution_count": null,
      "metadata": {
        "colab": {
          "base_uri": "https://localhost:8080/",
          "height": 428
        },
        "id": "M3eGXnpeZJWJ",
        "outputId": "3d592b3a-aa0d-4a9c-b7ea-bd781309bf3a"
      },
      "outputs": [
        {
          "data": {
            "image/png": "[encoded data removed]",
            "text/plain": [
              "<Figure size 720x432 with 2 Axes>"
            ]
          },
          "metadata": {},
          "output_type": "display_data"
        }
      ],
      "source": [
        "matrix_confusion = confusion_matrix(y_test, y_pred)\n",
        "# set seaborn heatmap title, x-axis, y-axis label and font size\n",
        "plt.figure(figsize=(10,6))\n",
        "ax = sns.heatmap(matrix_confusion, annot=True,annot_kws={\"size\": 14}, fmt='g', cmap='Greens' )\n",
        "ax.set(title=\"Heatmap of Confusion Matrix\\n\",\n",
        "      xlabel=\"Predicted Values\",\n",
        "      ylabel=\"Actual Values\")\n",
        "ax.xaxis.set_ticklabels(SVM.classes_,fontsize=12) \n",
        "ax.yaxis.set_ticklabels(SVM.classes_,fontsize=12);\n",
        "sns.set(font_scale=1) # set fontsize 2"
      ]
    },
    {
      "cell_type": "markdown",
      "metadata": {
        "id": "0f6TR56ZTRZx"
      },
      "source": [
        "## **4.3.5 Hyperparameter Tuning**\n",
        "\n",
        "\n",
        "Hyperparameters are used either to enhance the performance and predictive power of a model or to accelerate its execution.As part of the hyperparameters, the number of decision trees and the number of features they consider when splitting nodes in the forest are included. \n",
        "\n",
        "\n",
        "In our model training Random Forest has the highest accuracy **93.30%** and showed the best performance in classifying the fatal class. So conducting Hyperparameter tuning inside Random forest.\n",
        "\n",
        "Reason for choosing random forest is explanined in detail at the conclusion part"
      ]
    },
    {
      "cell_type": "markdown",
      "metadata": {
        "id": "JdxIP9t0Xa42"
      },
      "source": [
        "### **4.3.5.1 Hyperparameter Tuning - Random Forest**\n",
        "\n",
        "Here we are using **200 and 300** as the n_estimators and avoided using the **600** due to the hardware restrictions. n_estimator represents the count of elseif used for the model\n",
        "\n",
        "Also max_features are done using **auto and sqrt**\n",
        "\n",
        "Here four models of Random forest are created **200_auto, 200_sqrt, 300_auto, 300_sqrt**"
      ]
    },
    {
      "cell_type": "code",
      "execution_count": null,
      "metadata": {
        "colab": {
          "base_uri": "https://localhost:8080/"
        },
        "id": "1kjoNYPGbBU1",
        "outputId": "bac18a63-ffb3-4526-a223-01c2f9d29f7e"
      },
      "outputs": [
        {
          "name": "stdout",
          "output_type": "stream",
          "text": [
            "{'n_estimators': [200, 300], 'max_features': ['auto', 'sqrt']}\n"
          ]
        }
      ],
      "source": [
        "# Number of trees in random forest\n",
        "n_estimators = [200,300]\n",
        "# Number of features to consider at every split\n",
        "max_features = ['auto', 'sqrt']\n",
        "# Create the random grid\n",
        "random_grid = {'n_estimators': n_estimators,\n",
        "               'max_features': max_features\n",
        "               }\n",
        "\n",
        "print(random_grid)"
      ]
    },
    {
      "cell_type": "markdown",
      "metadata": {
        "id": "AOfVIcUmPdVI"
      },
      "source": [
        "**Here the fold is limited to 5, Becauase of the hardware restrictions**"
      ]
    },
    {
      "cell_type": "code",
      "execution_count": null,
      "metadata": {
        "colab": {
          "base_uri": "https://localhost:8080/"
        },
        "id": "fuYnm0CJd2BQ",
        "outputId": "f1b76192-8158-491e-ad20-23bfd7750eec"
      },
      "outputs": [
        {
          "name": "stdout",
          "output_type": "stream",
          "text": [
            "Fitting 5 folds for each of 4 candidates, totalling 20 fits\n"
          ]
        },
        {
          "name": "stderr",
          "output_type": "stream",
          "text": [
            "C:\\Users\\Anupriya Sebastian\\Anaconda3\\lib\\site-packages\\sklearn\\model_selection\\_search.py:296: UserWarning: The total space of parameters 4 is smaller than n_iter=100. Running 4 iterations. For exhaustive searches, use GridSearchCV.\n",
            "  UserWarning,\n"
          ]
        }
      ],
      "source": [
        "# Use the random grid to search for best hyperparameters\n",
        "# First create the base model to tune\n",
        "rf = RandomForestClassifier()\n",
        "# Random search of parameters, using 5 fold cross validation,\n",
        "# search across 100 different combinations, and use all available cores\n",
        "rf_random = RandomizedSearchCV(estimator = rf, param_distributions = random_grid, n_iter = 100, cv = 5, verbose=2, random_state=42, n_jobs = -1)\n",
        "\n",
        "# Fit the random search model\n",
        "rf_random.fit(X_train,y_train)\n",
        "\n",
        "warnings.filterwarnings('ignore')"
      ]
    },
    {
      "cell_type": "code",
      "execution_count": null,
      "metadata": {
        "colab": {
          "base_uri": "https://localhost:8080/"
        },
        "id": "XDHL0Ddtyhdn",
        "outputId": "b55ba003-3f13-4ed5-bf56-d0a170110788"
      },
      "outputs": [
        {
          "data": {
            "text/plain": [
              "{'n_estimators': 300, 'max_features': 'auto'}"
            ]
          },
          "execution_count": 195,
          "metadata": {},
          "output_type": "execute_result"
        }
      ],
      "source": [
        "rf_random.best_params_"
      ]
    },
    {
      "cell_type": "markdown",
      "metadata": {
        "id": "wDJAv0F3PdVI"
      },
      "source": [
        "Here we found that our model gets the best results using the combination of **300 with sqrt**. Use these values to train the model and then we run it on our unseen test data to get the accuracy."
      ]
    },
    {
      "cell_type": "code",
      "execution_count": null,
      "metadata": {
        "colab": {
          "base_uri": "https://localhost:8080/"
        },
        "id": "dp6c_anlysDt",
        "outputId": "5cd74b36-6ade-4182-bb19-56661df0f8e6"
      },
      "outputs": [
        {
          "data": {
            "text/plain": [
              "RandomForestClassifier(max_features='sqrt', n_estimators=300)"
            ]
          },
          "execution_count": 196,
          "metadata": {},
          "output_type": "execute_result"
        }
      ],
      "source": [
        "tunedrf = RandomForestClassifier( max_features =  'sqrt', n_estimators = 300)\n",
        "tunedrf.fit(X_train,y_train)"
      ]
    },
    {
      "cell_type": "code",
      "execution_count": null,
      "metadata": {
        "id": "n9koxTLIy5PN"
      },
      "outputs": [],
      "source": [
        "# Testing the model\n",
        "y_pred=tunedrf.predict(X_test)"
      ]
    },
    {
      "cell_type": "code",
      "execution_count": null,
      "metadata": {
        "colab": {
          "base_uri": "https://localhost:8080/"
        },
        "id": "0xSyU4TXR0ED",
        "outputId": "c709cfef-ed62-4987-ccd8-2045db373d20"
      },
      "outputs": [
        {
          "name": "stdout",
          "output_type": "stream",
          "text": [
            "Accuracy: 93.34 %\n"
          ]
        }
      ],
      "source": [
        "# Model evaluvation\n",
        "print(\"Accuracy:\",round(metrics.accuracy_score(y_test, y_pred)* 100,2),\"%\")"
      ]
    },
    {
      "cell_type": "code",
      "execution_count": null,
      "metadata": {
        "colab": {
          "base_uri": "https://localhost:8080/",
          "height": 380
        },
        "id": "kux00SOy1knv",
        "outputId": "9eccd274-2805-4008-d3d8-41125760dc50"
      },
      "outputs": [
        {
          "name": "stdout",
          "output_type": "stream",
          "text": [
            "              precision    recall  f1-score   support\n",
            "\n",
            "       Fatal   0.714744  0.819853  0.763699       272\n",
            "     Serious   0.809372  0.868075  0.837696      3502\n",
            "      Slight   0.969977  0.950858  0.960322     14916\n",
            "\n",
            "    accuracy                       0.933440     18690\n",
            "   macro avg   0.831364  0.879595  0.853906     18690\n",
            "weighted avg   0.936169  0.933440  0.934484     18690\n",
            "\n"
          ]
        },
        {
          "data": {
            "text/html": [
              "<div>\n",
              "<style scoped>\n",
              "    .dataframe tbody tr th:only-of-type {\n",
              "        vertical-align: middle;\n",
              "    }\n",
              "\n",
              "    .dataframe tbody tr th {\n",
              "        vertical-align: top;\n",
              "    }\n",
              "\n",
              "    .dataframe thead th {\n",
              "        text-align: right;\n",
              "    }\n",
              "</style>\n",
              "<table border=\"1\" class=\"dataframe\">\n",
              "  <thead>\n",
              "    <tr style=\"text-align: right;\">\n",
              "      <th>Predicted</th>\n",
              "      <th>Fatal</th>\n",
              "      <th>Serious</th>\n",
              "      <th>Slight</th>\n",
              "      <th>All</th>\n",
              "    </tr>\n",
              "    <tr>\n",
              "      <th>Actual</th>\n",
              "      <th></th>\n",
              "      <th></th>\n",
              "      <th></th>\n",
              "      <th></th>\n",
              "    </tr>\n",
              "  </thead>\n",
              "  <tbody>\n",
              "    <tr>\n",
              "      <th>Fatal</th>\n",
              "      <td>223</td>\n",
              "      <td>24</td>\n",
              "      <td>25</td>\n",
              "      <td>272</td>\n",
              "    </tr>\n",
              "    <tr>\n",
              "      <th>Serious</th>\n",
              "      <td>48</td>\n",
              "      <td>3040</td>\n",
              "      <td>414</td>\n",
              "      <td>3502</td>\n",
              "    </tr>\n",
              "    <tr>\n",
              "      <th>Slight</th>\n",
              "      <td>41</td>\n",
              "      <td>692</td>\n",
              "      <td>14183</td>\n",
              "      <td>14916</td>\n",
              "    </tr>\n",
              "    <tr>\n",
              "      <th>All</th>\n",
              "      <td>312</td>\n",
              "      <td>3756</td>\n",
              "      <td>14622</td>\n",
              "      <td>18690</td>\n",
              "    </tr>\n",
              "  </tbody>\n",
              "</table>\n",
              "</div>"
            ],
            "text/plain": [
              "Predicted  Fatal  Serious  Slight    All\n",
              "Actual                                  \n",
              "Fatal        223       24      25    272\n",
              "Serious       48     3040     414   3502\n",
              "Slight        41      692   14183  14916\n",
              "All          312     3756   14622  18690"
            ]
          },
          "execution_count": 199,
          "metadata": {},
          "output_type": "execute_result"
        }
      ],
      "source": [
        "sk_report = classification_report(\n",
        "    digits=6,\n",
        "    y_true=y_test, \n",
        "    y_pred=y_pred)\n",
        "print(sk_report)\n",
        "pd.crosstab(y_test, y_pred, rownames=['Actual'], colnames=['Predicted'], margins=True)"
      ]
    },
    {
      "cell_type": "code",
      "execution_count": null,
      "metadata": {
        "colab": {
          "base_uri": "https://localhost:8080/",
          "height": 428
        },
        "id": "-F02BQG2ayQ0",
        "outputId": "13e76c30-99a9-471e-965a-e073826889a5",
        "scrolled": true
      },
      "outputs": [
        {
          "data": {
            "image/png": "[encoded data removed]",
            "text/plain": [
              "<Figure size 720x432 with 2 Axes>"
            ]
          },
          "metadata": {},
          "output_type": "display_data"
        }
      ],
      "source": [
        "matrix_confusion = confusion_matrix(y_test, y_pred)\n",
        "# set seaborn heatmap title, x-axis, y-axis label and font size\n",
        "plt.figure(figsize=(10,6))\n",
        "ax = sns.heatmap(matrix_confusion, annot=True,annot_kws={\"size\": 14}, fmt='g', cmap='Greens' )\n",
        "ax.set(title=\"Heatmap of Confusion Matrix\\n\",\n",
        "      xlabel=\"Predicted Values\",\n",
        "      ylabel=\"Actual Values\")\n",
        "ax.xaxis.set_ticklabels(SVM.classes_,fontsize=12) \n",
        "ax.yaxis.set_ticklabels(SVM.classes_,fontsize=12);\n",
        "sns.set(font_scale=1) # set fontsize 2"
      ]
    },
    {
      "cell_type": "markdown",
      "metadata": {
        "id": "g2V4nzZE0jdr"
      },
      "source": [
        "## **4.3.6 Feature importance**\n",
        "\n",
        "By using Sklearn's random forest library, we will be able to determine what features are most important to predict the casualty severity. We will plot in ascending order so we know which features are most important. The random forest algorithm has another advantage in that it makes it very easy to measure how important each feature is to the prediction. By looking at what's important to the prediction process, you can decide what features to look for getting more accurate results of ML model. \n",
        "\n",
        "Here important fearures are **Speed_limit, accident_severity amd age_of_casualty**. In practical case also speed,age, and accident impact are important cause for deciding the persons medical codition due to accident. **accident_severity** is most important variable as per the analysis\n"
      ]
    },
    {
      "cell_type": "code",
      "execution_count": null,
      "metadata": {
        "colab": {
          "base_uri": "https://localhost:8080/",
          "height": 394
        },
        "id": "-tG_kLF20--O",
        "outputId": "68a33a86-6fb0-44e0-b77e-c4e17f48d043"
      },
      "outputs": [
        {
          "data": {
            "text/plain": [
              "<AxesSubplot:>"
            ]
          },
          "execution_count": 201,
          "metadata": {},
          "output_type": "execute_result"
        },
        {
          "data": {
            "image/png": "[encoded data removed]",
            "text/plain": [
              "<Figure size 864x432 with 1 Axes>"
            ]
          },
          "metadata": {},
          "output_type": "display_data"
        }
      ],
      "source": [
        "plt.figure(figsize=(12,6))\n",
        "feat_importances = pd.Series(tunedrf.feature_importances_, index=X_train.columns)\n",
        "feat_importances.nlargest(5).plot(kind='barh')"
      ]
    },
    {
      "cell_type": "markdown",
      "metadata": {
        "id": "GZiqi7TsZuIF"
      },
      "source": [
        "# **5.0 Conclusion and Discussion of Results**\n",
        "\n",
        "\n",
        "All models correctly predicted the data and the model accuracy was high as a result of the best practices we used for data cleaning, transformation and understanding. All machine learning models were trained successfully. Among the models we can comparee the accuracy values as follows \n",
        "![image-2.png](attachment:image-2.png)\n",
        "As a result of comparing the accuracy, we conclude that Random Forest is the best model. Normally random forest performance better for the catergorical values. This ability outperformed SVM and Decisio tree models.\n",
        "\n",
        "We need to compare the Precision, Recall, and F1-score to make the final decision due to the unbalanced data set\n",
        "![image-3.png](attachment:image-3.png)\n",
        "We can see that the Recall value of the Random forest is **0.82** and precision is **0.72**. From these results we can finalise that the **random forest** model is the **best model**\n",
        "\n",
        "If we could find a dataset with more values of **fatal** in the Casualty_Severity column, then we would get better results with the models and you would not have to deal with the issue of unbalanced data.\n",
        "\n",
        "\n"
      ]
    },
    {
      "cell_type": "markdown",
      "metadata": {
        "id": "gXZ91vgdZuEu"
      },
      "source": [
        "# **6.0 Future Model Improvements and Business Scenario**"
      ]
    },
    {
      "cell_type": "markdown",
      "metadata": {
        "id": "HhNHqbUIPdVL"
      },
      "source": [
        "A model like ours can help the NHS improve their service. It can predict the severity of causalities in an accident. At present, the NHS measures casualty severity manually, and manual inputs are often biased. It clearly depends on the individual. Gender, age, status, and many other factors are taken into consideration by some people. But ML models are not biased and we are getting an accuracy of 93.31%. We can avoid human error by using this model and help the NHS to gauge the severity of casualties.\n",
        "\n",
        "\n",
        "In future we can use this model to predict the casualty severity and notify the nearby hospitals about the accident. During the accident treatment main delays happens for the preparation of the operation theatre (OT). It is important for the doctor or medical staff to be informed as soon as possible about the casualty severity in order to start preparations for OT. During an accident, seconds can make a difference to the life and recovery of the person involved. Our Machine Learning model can predict this from the variables of the accident situation. Informing the hospitals of the accident, the seriousness of the casualties, and their location is important in helping the doctors provide better care. In this way, hospitals will be able to prepare their OTs and start treating patients immediately after their arrival. It has the potential to save thousands of lives if it is implemented into a proper system by a software or web application."
      ]
    },
    {
      "cell_type": "code",
      "execution_count": null,
      "metadata": {
        "colab": {
          "base_uri": "https://localhost:8080/"
        },
        "id": "_J4d50fVaSV3",
        "outputId": "5a552434-4d3a-44f5-9e21-f130b2aa29d5"
      },
      "outputs": [
        {
          "name": "stdout",
          "output_type": "stream",
          "text": [
            "The completion of the notebook took 11.56533 minutes.\n"
          ]
        }
      ],
      "source": [
        "# Finish Timer\n",
        "notebook_duration = round((time.time() - start)/60, 5)\n",
        "print(f'The completion of the notebook took {notebook_duration} minutes.')\n"
      ]
    },
    {
      "cell_type": "code",
      "execution_count": null,
      "metadata": {
        "id": "YZc9H-U2bWIm"
      },
      "outputs": [],
      "source": [
        ""
      ]
    }
  ],
  "metadata": {
    "colab": {
      "collapsed_sections": [],
      "name": "BNM832_BD_210223372_INDVIDUAL_REPORT.ipynb",
      "provenance": [],
      "include_colab_link": true
    },
    "kernelspec": {
      "display_name": "Python 3 (ipykernel)",
      "language": "python",
      "name": "python3"
    },
    "language_info": {
      "codemirror_mode": {
        "name": "ipython",
        "version": 3
      },
      "file_extension": ".py",
      "mimetype": "text/x-python",
      "name": "python",
      "nbconvert_exporter": "python",
      "pygments_lexer": "ipython3",
      "version": "3.7.4"
    }
  },
  "nbformat": 4,
  "nbformat_minor": 0
}